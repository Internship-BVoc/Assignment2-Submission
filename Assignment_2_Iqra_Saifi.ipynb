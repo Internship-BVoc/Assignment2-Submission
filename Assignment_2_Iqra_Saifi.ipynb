{
  "nbformat": 4,
  "nbformat_minor": 0,
  "metadata": {
    "colab": {
      "name": "Assignment 2_Iqra_Saifi.ipynb",
      "provenance": [],
      "collapsed_sections": []
    },
    "kernelspec": {
      "name": "python3",
      "display_name": "Python 3"
    }
  },
  "cells": [
    {
      "cell_type": "code",
      "metadata": {
        "id": "H8YFtk_qSFJf",
        "colab_type": "code",
        "colab": {}
      },
      "source": [
        "import pandas as pd\n",
        "import numpy as np\n",
        "import seaborn as sn\n",
        "import matplotlib.pyplot as plt"
      ],
      "execution_count": 0,
      "outputs": []
    },
    {
      "cell_type": "code",
      "metadata": {
        "id": "ozz_3gmQShyy",
        "colab_type": "code",
        "outputId": "109084c6-6b58-4bbc-dfac-0b97e6bcd61e",
        "colab": {
          "base_uri": "https://localhost:8080/",
          "height": 196
        }
      },
      "source": [
        "df=pd.read_csv(\"/content/employee_data.csv\",sep='\\t')\n",
        "df.head()"
      ],
      "execution_count": 0,
      "outputs": [
        {
          "output_type": "execute_result",
          "data": {
            "text/html": [
              "<div>\n",
              "<style scoped>\n",
              "    .dataframe tbody tr th:only-of-type {\n",
              "        vertical-align: middle;\n",
              "    }\n",
              "\n",
              "    .dataframe tbody tr th {\n",
              "        vertical-align: top;\n",
              "    }\n",
              "\n",
              "    .dataframe thead th {\n",
              "        text-align: right;\n",
              "    }\n",
              "</style>\n",
              "<table border=\"1\" class=\"dataframe\">\n",
              "  <thead>\n",
              "    <tr style=\"text-align: right;\">\n",
              "      <th></th>\n",
              "      <th>age</th>\n",
              "      <th>employment_type</th>\n",
              "      <th>salary</th>\n",
              "      <th>education</th>\n",
              "      <th>marital-status</th>\n",
              "      <th>relationship</th>\n",
              "      <th>Gender</th>\n",
              "      <th>hours_per_week</th>\n",
              "    </tr>\n",
              "  </thead>\n",
              "  <tbody>\n",
              "    <tr>\n",
              "      <th>0</th>\n",
              "      <td>39</td>\n",
              "      <td>State-gov</td>\n",
              "      <td>77516</td>\n",
              "      <td>Bachelors</td>\n",
              "      <td>Never-married</td>\n",
              "      <td>Not-in-family</td>\n",
              "      <td>Male</td>\n",
              "      <td>40</td>\n",
              "    </tr>\n",
              "    <tr>\n",
              "      <th>1</th>\n",
              "      <td>50</td>\n",
              "      <td>Self-emp-not-inc</td>\n",
              "      <td>83311</td>\n",
              "      <td>Bachelors</td>\n",
              "      <td>Married-civ-spouse</td>\n",
              "      <td>Husband</td>\n",
              "      <td>Male</td>\n",
              "      <td>13</td>\n",
              "    </tr>\n",
              "    <tr>\n",
              "      <th>2</th>\n",
              "      <td>38</td>\n",
              "      <td>Private</td>\n",
              "      <td>215646</td>\n",
              "      <td>HS-grad</td>\n",
              "      <td>Divorced</td>\n",
              "      <td>Not-in-family</td>\n",
              "      <td>Male</td>\n",
              "      <td>40</td>\n",
              "    </tr>\n",
              "    <tr>\n",
              "      <th>3</th>\n",
              "      <td>53</td>\n",
              "      <td>Private</td>\n",
              "      <td>234721</td>\n",
              "      <td>11th</td>\n",
              "      <td>Married-civ-spouse</td>\n",
              "      <td>Husband</td>\n",
              "      <td>Male</td>\n",
              "      <td>40</td>\n",
              "    </tr>\n",
              "    <tr>\n",
              "      <th>4</th>\n",
              "      <td>28</td>\n",
              "      <td>Private</td>\n",
              "      <td>338409</td>\n",
              "      <td>Bachelors</td>\n",
              "      <td>Married-civ-spouse</td>\n",
              "      <td>Wife</td>\n",
              "      <td>Female</td>\n",
              "      <td>40</td>\n",
              "    </tr>\n",
              "  </tbody>\n",
              "</table>\n",
              "</div>"
            ],
            "text/plain": [
              "   age    employment_type  salary  ...    relationship   Gender hours_per_week\n",
              "0   39          State-gov   77516  ...   Not-in-family     Male             40\n",
              "1   50   Self-emp-not-inc   83311  ...         Husband     Male             13\n",
              "2   38            Private  215646  ...   Not-in-family     Male             40\n",
              "3   53            Private  234721  ...         Husband     Male             40\n",
              "4   28            Private  338409  ...            Wife   Female             40\n",
              "\n",
              "[5 rows x 8 columns]"
            ]
          },
          "metadata": {
            "tags": []
          },
          "execution_count": 13
        }
      ]
    },
    {
      "cell_type": "code",
      "metadata": {
        "id": "9N-DExSvTEpS",
        "colab_type": "code",
        "outputId": "375f5e41-db54-4f75-d41f-b29da4197c85",
        "colab": {
          "base_uri": "https://localhost:8080/",
          "height": 67
        }
      },
      "source": [
        "df.columns"
      ],
      "execution_count": 0,
      "outputs": [
        {
          "output_type": "execute_result",
          "data": {
            "text/plain": [
              "Index(['age', 'employment_type', 'salary', 'education', 'marital-status',\n",
              "       'relationship', 'Gender', 'hours_per_week'],\n",
              "      dtype='object')"
            ]
          },
          "metadata": {
            "tags": []
          },
          "execution_count": 10
        }
      ]
    },
    {
      "cell_type": "code",
      "metadata": {
        "id": "dVZwuNc4TJvR",
        "colab_type": "code",
        "outputId": "9795617c-1eb8-403c-c446-d5e974ecd52e",
        "colab": {
          "base_uri": "https://localhost:8080/",
          "height": 33
        }
      },
      "source": [
        "df.shape"
      ],
      "execution_count": 0,
      "outputs": [
        {
          "output_type": "execute_result",
          "data": {
            "text/plain": [
              "(978, 8)"
            ]
          },
          "metadata": {
            "tags": []
          },
          "execution_count": 12
        }
      ]
    },
    {
      "cell_type": "markdown",
      "metadata": {
        "id": "omsEnbUAYKH0",
        "colab_type": "text"
      },
      "source": [
        "**Problem 1- Identify Categorical variables & Continuous Variables**"
      ]
    },
    {
      "cell_type": "markdown",
      "metadata": {
        "id": "LAh6KlusU_4H",
        "colab_type": "text"
      },
      "source": [
        "Categorical Variables in Dataset"
      ]
    },
    {
      "cell_type": "code",
      "metadata": {
        "id": "AtgG0jh-TaYJ",
        "colab_type": "code",
        "outputId": "252bc0c1-ee01-4c75-9870-d426963ff78f",
        "colab": {
          "base_uri": "https://localhost:8080/",
          "height": 50
        }
      },
      "source": [
        "#unique values of employment_type\n",
        "df['employment_type'].unique()"
      ],
      "execution_count": 0,
      "outputs": [
        {
          "output_type": "execute_result",
          "data": {
            "text/plain": [
              "array([' State-gov', ' Self-emp-not-inc', ' Private', ' Federal-gov',\n",
              "       ' Local-gov', ' ?', ' Self-emp-inc'], dtype=object)"
            ]
          },
          "metadata": {
            "tags": []
          },
          "execution_count": 14
        }
      ]
    },
    {
      "cell_type": "code",
      "metadata": {
        "id": "CYZc-0-9VHpq",
        "colab_type": "code",
        "outputId": "8c26bc3e-edaf-4047-dff1-c2b2fd61b5e6",
        "colab": {
          "base_uri": "https://localhost:8080/",
          "height": 84
        }
      },
      "source": [
        "#unique values of education\n",
        "df['education'].unique()"
      ],
      "execution_count": 0,
      "outputs": [
        {
          "output_type": "execute_result",
          "data": {
            "text/plain": [
              "array([' Bachelors', ' HS-grad', ' 11th', ' Masters', ' 9th',\n",
              "       ' Some-college', ' Assoc-acdm', ' Assoc-voc', ' 7th-8th',\n",
              "       ' Doctorate', ' Prof-school', ' 5th-6th', ' 10th', ' 1st-4th',\n",
              "       ' Preschool', ' 12th'], dtype=object)"
            ]
          },
          "metadata": {
            "tags": []
          },
          "execution_count": 16
        }
      ]
    },
    {
      "cell_type": "code",
      "metadata": {
        "id": "A_pXkWdoVan8",
        "colab_type": "code",
        "outputId": "71505f57-1806-43b6-c3ce-2722602e6010",
        "colab": {
          "base_uri": "https://localhost:8080/",
          "height": 67
        }
      },
      "source": [
        "#unique values of marital-status\n",
        "df['marital-status'].unique()"
      ],
      "execution_count": 0,
      "outputs": [
        {
          "output_type": "execute_result",
          "data": {
            "text/plain": [
              "array([' Never-married', ' Married-civ-spouse', ' Divorced',\n",
              "       ' Married-spouse-absent', ' Separated', ' Married-AF-spouse',\n",
              "       ' Widowed'], dtype=object)"
            ]
          },
          "metadata": {
            "tags": []
          },
          "execution_count": 17
        }
      ]
    },
    {
      "cell_type": "code",
      "metadata": {
        "id": "DYAzarqnVjzE",
        "colab_type": "code",
        "outputId": "045f5e93-1ac1-4904-8b9e-7722fecb3ec6",
        "colab": {
          "base_uri": "https://localhost:8080/",
          "height": 50
        }
      },
      "source": [
        "#unique values of relationship\n",
        "df['relationship'].unique()"
      ],
      "execution_count": 0,
      "outputs": [
        {
          "output_type": "execute_result",
          "data": {
            "text/plain": [
              "array([' Not-in-family', ' Husband', ' Wife', ' Own-child', ' Unmarried',\n",
              "       ' Other-relative'], dtype=object)"
            ]
          },
          "metadata": {
            "tags": []
          },
          "execution_count": 18
        }
      ]
    },
    {
      "cell_type": "code",
      "metadata": {
        "id": "cr09O34fVs7l",
        "colab_type": "code",
        "outputId": "5e4cf869-8537-4f20-c417-3f8ddd3953eb",
        "colab": {
          "base_uri": "https://localhost:8080/",
          "height": 33
        }
      },
      "source": [
        "#unique values of gender\n",
        "df['Gender'].unique()"
      ],
      "execution_count": 0,
      "outputs": [
        {
          "output_type": "execute_result",
          "data": {
            "text/plain": [
              "array([' Male', ' Female'], dtype=object)"
            ]
          },
          "metadata": {
            "tags": []
          },
          "execution_count": 20
        }
      ]
    },
    {
      "cell_type": "markdown",
      "metadata": {
        "id": "gnPvZENIdnKA",
        "colab_type": "text"
      },
      "source": [
        "Because empoyment_type, education, marital-status, relationship and gender have finite set of values, therefore these are categorical data."
      ]
    },
    {
      "cell_type": "markdown",
      "metadata": {
        "id": "4FHKwxQMV7h1",
        "colab_type": "text"
      },
      "source": [
        "Continuous Variables in Dataset"
      ]
    },
    {
      "cell_type": "code",
      "metadata": {
        "id": "k2ZHWHQzWBUs",
        "colab_type": "code",
        "outputId": "6b7651a2-04f2-41d1-bd37-9de73ec99743",
        "colab": {
          "base_uri": "https://localhost:8080/",
          "height": 33
        }
      },
      "source": [
        "len(df.age.unique())"
      ],
      "execution_count": 0,
      "outputs": [
        {
          "output_type": "execute_result",
          "data": {
            "text/plain": [
              "65"
            ]
          },
          "metadata": {
            "tags": []
          },
          "execution_count": 29
        }
      ]
    },
    {
      "cell_type": "code",
      "metadata": {
        "id": "pSkOkl7tWaVu",
        "colab_type": "code",
        "outputId": "e3cda9a9-baeb-47ff-bf02-089de834f908",
        "colab": {
          "base_uri": "https://localhost:8080/",
          "height": 33
        }
      },
      "source": [
        "len(df.salary.unique())"
      ],
      "execution_count": 0,
      "outputs": [
        {
          "output_type": "execute_result",
          "data": {
            "text/plain": [
              "966"
            ]
          },
          "metadata": {
            "tags": []
          },
          "execution_count": 30
        }
      ]
    },
    {
      "cell_type": "code",
      "metadata": {
        "id": "_YKOa3wqWjU1",
        "colab_type": "code",
        "outputId": "49fad1fb-13c3-4965-f367-ba1c794c2e91",
        "colab": {
          "base_uri": "https://localhost:8080/",
          "height": 33
        }
      },
      "source": [
        "len(df.hours_per_week.unique())"
      ],
      "execution_count": 0,
      "outputs": [
        {
          "output_type": "execute_result",
          "data": {
            "text/plain": [
              "56"
            ]
          },
          "metadata": {
            "tags": []
          },
          "execution_count": 31
        }
      ]
    },
    {
      "cell_type": "markdown",
      "metadata": {
        "id": "zlWSchtDeAYo",
        "colab_type": "text"
      },
      "source": [
        "Because age, salary, hours_per_week have large number of unique values, therefore they are continuous variables"
      ]
    },
    {
      "cell_type": "markdown",
      "metadata": {
        "id": "_3pqx9F-aikj",
        "colab_type": "text"
      },
      "source": [
        "**Problem 2- Carry on a Univariate analysis on all the Variables/Fields. User bar plots for Categorical Variables & histogram or line plot for Continuous ones. Label the plot and axis clearly for intuitive understanding. Mention observations drawn from each Univariate plot**"
      ]
    },
    {
      "cell_type": "markdown",
      "metadata": {
        "id": "oVGsItBotnPb",
        "colab_type": "text"
      },
      "source": [
        "Histogram plots for continuous variables:"
      ]
    },
    {
      "cell_type": "code",
      "metadata": {
        "id": "dAO-z17UamTr",
        "colab_type": "code",
        "outputId": "97eafecf-4192-45d9-87bc-76102f428363",
        "colab": {
          "base_uri": "https://localhost:8080/",
          "height": 610
        }
      },
      "source": [
        "#Takes all numerical data (continous or categorical) and plots\n",
        "df.hist(figsize=[20,10])"
      ],
      "execution_count": 0,
      "outputs": [
        {
          "output_type": "execute_result",
          "data": {
            "text/plain": [
              "array([[<matplotlib.axes._subplots.AxesSubplot object at 0x7f7531dcb3c8>,\n",
              "        <matplotlib.axes._subplots.AxesSubplot object at 0x7f7531d805c0>],\n",
              "       [<matplotlib.axes._subplots.AxesSubplot object at 0x7f7531db0828>,\n",
              "        <matplotlib.axes._subplots.AxesSubplot object at 0x7f7531d6b1d0>]],\n",
              "      dtype=object)"
            ]
          },
          "metadata": {
            "tags": []
          },
          "execution_count": 27
        },
        {
          "output_type": "display_data",
          "data": {
            "image/png": "[encoded data removed]",
            "text/plain": [
              "<Figure size 1440x720 with 4 Axes>"
            ]
          },
          "metadata": {
            "tags": [],
            "needs_background": "light"
          }
        }
      ]
    },
    {
      "cell_type": "markdown",
      "metadata": {
        "id": "0rsgmog5cqCu",
        "colab_type": "text"
      },
      "source": [
        "Inferences from the above:\n",
        "1. Most of the employees are of age of around 18-48 yrs. The employee above 48 yrs are less compared to the former, and are decreasing gradually. And, 2-3 employees are of 90 yrs.\n",
        "2. Approximately 550 employees work for 30-40 hours per week. Less than 100 employees work for 2-30 and 40-78 hours per week. And, about 2-3 employees work for 78-98 hours per week.\n",
        "3. The majority of employees earn between 0.03-0.3 million.  "
      ]
    },
    {
      "cell_type": "markdown",
      "metadata": {
        "id": "9dpEYJSNtv1L",
        "colab_type": "text"
      },
      "source": [
        "Bar plots for categorical variables"
      ]
    },
    {
      "cell_type": "code",
      "metadata": {
        "id": "Vzx6HCoMhGiu",
        "colab_type": "code",
        "outputId": "2048bc6b-1278-4315-c72a-3733402dd8d8",
        "colab": {
          "base_uri": "https://localhost:8080/",
          "height": 373
        }
      },
      "source": [
        "a=df.employment_type.value_counts().plot.bar()\n",
        "a.set_xlabel('Employment_type')\n",
        "a.set_ylabel('Number of Employees')"
      ],
      "execution_count": 0,
      "outputs": [
        {
          "output_type": "execute_result",
          "data": {
            "text/plain": [
              "Text(0, 0.5, 'Number of Employees')"
            ]
          },
          "metadata": {
            "tags": []
          },
          "execution_count": 54
        },
        {
          "output_type": "display_data",
          "data": {
            "image/png": "[encoded data removed]",
            "text/plain": [
              "<Figure size 432x288 with 1 Axes>"
            ]
          },
          "metadata": {
            "tags": [],
            "needs_background": "light"
          }
        }
      ]
    },
    {
      "cell_type": "markdown",
      "metadata": {
        "id": "1CjeO3m-iQ6o",
        "colab_type": "text"
      },
      "source": [
        "Inference drawn from the above:\n",
        "- Most of the employees work in Private type than the other type of employments."
      ]
    },
    {
      "cell_type": "code",
      "metadata": {
        "id": "ixTSCY2xlSPF",
        "colab_type": "code",
        "outputId": "f86a1058-fd7b-4965-bd9d-6efab3a6001b",
        "colab": {
          "base_uri": "https://localhost:8080/",
          "height": 357
        }
      },
      "source": [
        "b=df.education.value_counts().plot.bar()\n",
        "b.set_xlabel('Education of the employee')\n",
        "b.set_ylabel('Number of Employees')"
      ],
      "execution_count": 0,
      "outputs": [
        {
          "output_type": "execute_result",
          "data": {
            "text/plain": [
              "Text(0, 0.5, 'Number of Employees')"
            ]
          },
          "metadata": {
            "tags": []
          },
          "execution_count": 53
        },
        {
          "output_type": "display_data",
          "data": {
            "image/png": "[encoded data removed]",
            "text/plain": [
              "<Figure size 432x288 with 1 Axes>"
            ]
          },
          "metadata": {
            "tags": [],
            "needs_background": "light"
          }
        }
      ]
    },
    {
      "cell_type": "markdown",
      "metadata": {
        "id": "zNuFdbtol2qh",
        "colab_type": "text"
      },
      "source": [
        "Inference from the above:\n",
        "- Most employees are high school graduates followed by college students then masters and so on, even 2-3 preschooler are also employed."
      ]
    },
    {
      "cell_type": "code",
      "metadata": {
        "id": "T9Rd2QEumShy",
        "colab_type": "code",
        "outputId": "e611cf1a-2aa4-4fdb-9906-300681368911",
        "colab": {
          "base_uri": "https://localhost:8080/",
          "height": 404
        }
      },
      "source": [
        "c=df['marital-status'].value_counts().plot.bar()\n",
        "c.set_xlabel('Marital-status of employees')\n",
        "c.set_ylabel('Number of employees')"
      ],
      "execution_count": 0,
      "outputs": [
        {
          "output_type": "execute_result",
          "data": {
            "text/plain": [
              "Text(0, 0.5, 'Number of employees')"
            ]
          },
          "metadata": {
            "tags": []
          },
          "execution_count": 52
        },
        {
          "output_type": "display_data",
          "data": {
            "image/png": "[encoded data removed]",
            "text/plain": [
              "<Figure size 432x288 with 1 Axes>"
            ]
          },
          "metadata": {
            "tags": [],
            "needs_background": "light"
          }
        }
      ]
    },
    {
      "cell_type": "markdown",
      "metadata": {
        "id": "9P07Wfgmnh0T",
        "colab_type": "text"
      },
      "source": [
        "Inference from the above:\n",
        "- Most emoloyees are married-civ-spouse."
      ]
    },
    {
      "cell_type": "code",
      "metadata": {
        "id": "qUlJprMVoSVs",
        "colab_type": "code",
        "outputId": "b94d5e8f-ed8a-417a-b121-4d4d0ca40d26",
        "colab": {
          "base_uri": "https://localhost:8080/",
          "height": 358
        }
      },
      "source": [
        "d=df.relationship.value_counts().plot.bar()\n",
        "d.set_xlabel('Relationship Status')\n",
        "d.set_ylabel('Number of Employees')"
      ],
      "execution_count": 0,
      "outputs": [
        {
          "output_type": "execute_result",
          "data": {
            "text/plain": [
              "Text(0, 0.5, 'Number of Employees')"
            ]
          },
          "metadata": {
            "tags": []
          },
          "execution_count": 51
        },
        {
          "output_type": "display_data",
          "data": {
            "image/png": "[encoded data removed]",
            "text/plain": [
              "<Figure size 432x288 with 1 Axes>"
            ]
          },
          "metadata": {
            "tags": [],
            "needs_background": "light"
          }
        }
      ]
    },
    {
      "cell_type": "markdown",
      "metadata": {
        "id": "-j5GnsQKqGLG",
        "colab_type": "text"
      },
      "source": [
        "Inference from the above:\n",
        "- Most employees are husbands."
      ]
    },
    {
      "cell_type": "code",
      "metadata": {
        "id": "VkjUaPF4qeHX",
        "colab_type": "code",
        "outputId": "457313e1-ed2c-4595-9c22-c9676133fb7a",
        "colab": {
          "base_uri": "https://localhost:8080/",
          "height": 326
        }
      },
      "source": [
        "e=df.Gender.value_counts().plot.bar()\n",
        "e.set_xlabel('Gender of Employee')\n",
        "e.set_ylabel('Number of Employees')"
      ],
      "execution_count": 0,
      "outputs": [
        {
          "output_type": "execute_result",
          "data": {
            "text/plain": [
              "Text(0, 0.5, 'Number of Employees')"
            ]
          },
          "metadata": {
            "tags": []
          },
          "execution_count": 50
        },
        {
          "output_type": "display_data",
          "data": {
            "image/png": "[encoded data removed]",
            "text/plain": [
              "<Figure size 432x288 with 1 Axes>"
            ]
          },
          "metadata": {
            "tags": [],
            "needs_background": "light"
          }
        }
      ]
    },
    {
      "cell_type": "markdown",
      "metadata": {
        "id": "VyUiy47FsVIl",
        "colab_type": "text"
      },
      "source": [
        "Inference from the above:\n",
        "- The number of employed males are more than the twice of employed females."
      ]
    },
    {
      "cell_type": "code",
      "metadata": {
        "id": "7auvPBJ8sptS",
        "colab_type": "code",
        "outputId": "feab3469-bf23-4232-fb6e-91dfd9579b3e",
        "colab": {
          "base_uri": "https://localhost:8080/",
          "height": 299
        }
      },
      "source": [
        "f=df.age.plot.hist()\n",
        "f.set_xlabel('Age of Employees')\n",
        "f.set_ylabel('Number of Employees')"
      ],
      "execution_count": 0,
      "outputs": [
        {
          "output_type": "execute_result",
          "data": {
            "text/plain": [
              "Text(0, 0.5, 'Number of Employees')"
            ]
          },
          "metadata": {
            "tags": []
          },
          "execution_count": 58
        },
        {
          "output_type": "display_data",
          "data": {
            "image/png": "[encoded data removed]",
            "text/plain": [
              "<Figure size 432x288 with 1 Axes>"
            ]
          },
          "metadata": {
            "tags": [],
            "needs_background": "light"
          }
        }
      ]
    },
    {
      "cell_type": "markdown",
      "metadata": {
        "id": "XMYFscH-uMn8",
        "colab_type": "text"
      },
      "source": [
        "**Problem 3- Show a bivariate analysis between Salary and hour_per_week.Choose a plot of your choice. Mention the inferences drawn**"
      ]
    },
    {
      "cell_type": "code",
      "metadata": {
        "id": "fNKXBk7duQKc",
        "colab_type": "code",
        "outputId": "3e574302-bd42-41c1-9358-83d6b0557055",
        "colab": {
          "base_uri": "https://localhost:8080/",
          "height": 308
        }
      },
      "source": [
        "df.plot.scatter(x='hours_per_week',y='salary')"
      ],
      "execution_count": 124,
      "outputs": [
        {
          "output_type": "execute_result",
          "data": {
            "text/plain": [
              "<matplotlib.axes._subplots.AxesSubplot at 0x7f752d129898>"
            ]
          },
          "metadata": {
            "tags": []
          },
          "execution_count": 124
        },
        {
          "output_type": "display_data",
          "data": {
            "image/png": "[encoded data removed]",
            "text/plain": [
              "<Figure size 432x288 with 1 Axes>"
            ]
          },
          "metadata": {
            "tags": [],
            "needs_background": "light"
          }
        }
      ]
    },
    {
      "cell_type": "markdown",
      "metadata": {
        "id": "OssKhCkw-aSU",
        "colab_type": "text"
      },
      "source": [
        "Inference drawn from the above:\n",
        "- Employees working from 0-20 hours per week and 80-100 hour er week are earning comparatively lesser salary which is fine for the former as they are working less but unfair for the latter as they are working more but still getting lesser salary.\n",
        "- Employee working around 40 hours per week earns comparatively higher salary."
      ]
    },
    {
      "cell_type": "markdown",
      "metadata": {
        "id": "iIwiUjnEvtzm",
        "colab_type": "text"
      },
      "source": [
        "**Problem 4- For each Education type , showcase the distribution of Salary .Use Seaborn Facetgrid & Line plot.Identify the key observations and mention them**"
      ]
    },
    {
      "cell_type": "code",
      "metadata": {
        "id": "1VNhU6utyLEV",
        "colab_type": "code",
        "outputId": "78b4f8e6-06f5-4624-a67c-3b73a6564fa6",
        "colab": {
          "base_uri": "https://localhost:8080/",
          "height": 873
        }
      },
      "source": [
        "h=sn.FacetGrid(df,col='education',col_wrap=4,height=3)\n",
        "h=h.map(plt.hist,'salary')"
      ],
      "execution_count": 83,
      "outputs": [
        {
          "output_type": "display_data",
          "data": {
            "image/png": "[encoded data removed]",
            "text/plain": [
              "<Figure size 864x864 with 16 Axes>"
            ]
          },
          "metadata": {
            "tags": [],
            "needs_background": "light"
          }
        }
      ]
    },
    {
      "cell_type": "markdown",
      "metadata": {
        "id": "ldKxmlfD9yt5",
        "colab_type": "text"
      },
      "source": [
        "Inference from the above code:\n",
        "- Hs_grad (high school graduates) employed more with lesser amount of salaries\n",
        "- Majority of the employees receive salary under 50000. \n",
        "- Preschoolers have least employment which is fine.\n",
        "- People with doctorate are less employed as per their qualifications. they should be employed more but this is not the case here.\n"
      ]
    },
    {
      "cell_type": "markdown",
      "metadata": {
        "id": "QUnJrMbD2t8C",
        "colab_type": "text"
      },
      "source": [
        "**Problem 5- Categorizing each Gender & Relationship status (combination of all values) , plot the hours_per_week worked.Choose appropriate plots.Mention the inferences drawn**"
      ]
    },
    {
      "cell_type": "code",
      "metadata": {
        "id": "uhOiFQL624vN",
        "colab_type": "code",
        "colab": {
          "base_uri": "https://localhost:8080/",
          "height": 1000
        },
        "outputId": "1893d5be-b33f-4550-ddb3-a7188b615b45"
      },
      "source": [
        "i=sn.FacetGrid(df,col='Gender',row='relationship',palette=\"GnBu_d\",gridspec_kws={\"width_ratios\": [4, 4]}, height=2.5,aspect=2)\n",
        "i=i.map(plt.hist,\"hours_per_week\")"
      ],
      "execution_count": 78,
      "outputs": [
        {
          "output_type": "display_data",
          "data": {
            "image/png": "[encoded data removed]",
            "text/plain": [
              "<Figure size 720x1080 with 12 Axes>"
            ]
          },
          "metadata": {
            "tags": [],
            "needs_background": "light"
          }
        }
      ]
    },
    {
      "cell_type": "markdown",
      "metadata": {
        "id": "-vomYUhx8UpB",
        "colab_type": "text"
      },
      "source": [
        "Inference drawn from the above:\n",
        "- Number of employees are maximum when gender is male\n",
        "- Males husbands are working for more hours per week"
      ]
    },
    {
      "cell_type": "markdown",
      "metadata": {
        "id": "jLasKfIk4ugB",
        "colab_type": "text"
      },
      "source": [
        "**Problem 6- How many Males that have Marital status ‘Married-civ-spouse’ are earning above 150,000 ?**"
      ]
    },
    {
      "cell_type": "code",
      "metadata": {
        "id": "q_zf6h2o45Xd",
        "colab_type": "code",
        "colab": {
          "base_uri": "https://localhost:8080/",
          "height": 404
        },
        "outputId": "2aff4c92-eca7-46a9-c3c9-0e891d688573"
      },
      "source": [
        "d=df[(df['Gender'] == ' Male') & (df['marital-status'] == ' Married-civ-spouse') & (df['salary']>150000)]\n",
        "d"
      ],
      "execution_count": 96,
      "outputs": [
        {
          "output_type": "execute_result",
          "data": {
            "text/html": [
              "<div>\n",
              "<style scoped>\n",
              "    .dataframe tbody tr th:only-of-type {\n",
              "        vertical-align: middle;\n",
              "    }\n",
              "\n",
              "    .dataframe tbody tr th {\n",
              "        vertical-align: top;\n",
              "    }\n",
              "\n",
              "    .dataframe thead th {\n",
              "        text-align: right;\n",
              "    }\n",
              "</style>\n",
              "<table border=\"1\" class=\"dataframe\">\n",
              "  <thead>\n",
              "    <tr style=\"text-align: right;\">\n",
              "      <th></th>\n",
              "      <th>age</th>\n",
              "      <th>employment_type</th>\n",
              "      <th>salary</th>\n",
              "      <th>education</th>\n",
              "      <th>marital-status</th>\n",
              "      <th>relationship</th>\n",
              "      <th>Gender</th>\n",
              "      <th>hours_per_week</th>\n",
              "    </tr>\n",
              "  </thead>\n",
              "  <tbody>\n",
              "    <tr>\n",
              "      <th>3</th>\n",
              "      <td>53</td>\n",
              "      <td>Private</td>\n",
              "      <td>234721</td>\n",
              "      <td>11th</td>\n",
              "      <td>Married-civ-spouse</td>\n",
              "      <td>Husband</td>\n",
              "      <td>Male</td>\n",
              "      <td>40</td>\n",
              "    </tr>\n",
              "    <tr>\n",
              "      <th>7</th>\n",
              "      <td>52</td>\n",
              "      <td>Self-emp-not-inc</td>\n",
              "      <td>209642</td>\n",
              "      <td>HS-grad</td>\n",
              "      <td>Married-civ-spouse</td>\n",
              "      <td>Husband</td>\n",
              "      <td>Male</td>\n",
              "      <td>45</td>\n",
              "    </tr>\n",
              "    <tr>\n",
              "      <th>9</th>\n",
              "      <td>42</td>\n",
              "      <td>Private</td>\n",
              "      <td>159449</td>\n",
              "      <td>Bachelors</td>\n",
              "      <td>Married-civ-spouse</td>\n",
              "      <td>Husband</td>\n",
              "      <td>Male</td>\n",
              "      <td>40</td>\n",
              "    </tr>\n",
              "    <tr>\n",
              "      <th>10</th>\n",
              "      <td>37</td>\n",
              "      <td>Private</td>\n",
              "      <td>280464</td>\n",
              "      <td>Some-college</td>\n",
              "      <td>Married-civ-spouse</td>\n",
              "      <td>Husband</td>\n",
              "      <td>Male</td>\n",
              "      <td>80</td>\n",
              "    </tr>\n",
              "    <tr>\n",
              "      <th>15</th>\n",
              "      <td>34</td>\n",
              "      <td>Private</td>\n",
              "      <td>245487</td>\n",
              "      <td>7th-8th</td>\n",
              "      <td>Married-civ-spouse</td>\n",
              "      <td>Husband</td>\n",
              "      <td>Male</td>\n",
              "      <td>45</td>\n",
              "    </tr>\n",
              "    <tr>\n",
              "      <th>...</th>\n",
              "      <td>...</td>\n",
              "      <td>...</td>\n",
              "      <td>...</td>\n",
              "      <td>...</td>\n",
              "      <td>...</td>\n",
              "      <td>...</td>\n",
              "      <td>...</td>\n",
              "      <td>...</td>\n",
              "    </tr>\n",
              "    <tr>\n",
              "      <th>967</th>\n",
              "      <td>55</td>\n",
              "      <td>Self-emp-not-inc</td>\n",
              "      <td>189721</td>\n",
              "      <td>HS-grad</td>\n",
              "      <td>Married-civ-spouse</td>\n",
              "      <td>Husband</td>\n",
              "      <td>Male</td>\n",
              "      <td>20</td>\n",
              "    </tr>\n",
              "    <tr>\n",
              "      <th>968</th>\n",
              "      <td>48</td>\n",
              "      <td>Private</td>\n",
              "      <td>164966</td>\n",
              "      <td>Bachelors</td>\n",
              "      <td>Married-civ-spouse</td>\n",
              "      <td>Husband</td>\n",
              "      <td>Male</td>\n",
              "      <td>40</td>\n",
              "    </tr>\n",
              "    <tr>\n",
              "      <th>970</th>\n",
              "      <td>34</td>\n",
              "      <td>Private</td>\n",
              "      <td>202046</td>\n",
              "      <td>HS-grad</td>\n",
              "      <td>Married-civ-spouse</td>\n",
              "      <td>Husband</td>\n",
              "      <td>Male</td>\n",
              "      <td>35</td>\n",
              "    </tr>\n",
              "    <tr>\n",
              "      <th>973</th>\n",
              "      <td>37</td>\n",
              "      <td>Private</td>\n",
              "      <td>200153</td>\n",
              "      <td>HS-grad</td>\n",
              "      <td>Married-civ-spouse</td>\n",
              "      <td>Husband</td>\n",
              "      <td>Male</td>\n",
              "      <td>40</td>\n",
              "    </tr>\n",
              "    <tr>\n",
              "      <th>977</th>\n",
              "      <td>40</td>\n",
              "      <td>State-gov</td>\n",
              "      <td>188693</td>\n",
              "      <td>Masters</td>\n",
              "      <td>Married-civ-spouse</td>\n",
              "      <td>Husband</td>\n",
              "      <td>Male</td>\n",
              "      <td>35</td>\n",
              "    </tr>\n",
              "  </tbody>\n",
              "</table>\n",
              "<p>226 rows × 8 columns</p>\n",
              "</div>"
            ],
            "text/plain": [
              "     age    employment_type  salary  ... relationship Gender hours_per_week\n",
              "3     53            Private  234721  ...      Husband   Male             40\n",
              "7     52   Self-emp-not-inc  209642  ...      Husband   Male             45\n",
              "9     42            Private  159449  ...      Husband   Male             40\n",
              "10    37            Private  280464  ...      Husband   Male             80\n",
              "15    34            Private  245487  ...      Husband   Male             45\n",
              "..   ...                ...     ...  ...          ...    ...            ...\n",
              "967   55   Self-emp-not-inc  189721  ...      Husband   Male             20\n",
              "968   48            Private  164966  ...      Husband   Male             40\n",
              "970   34            Private  202046  ...      Husband   Male             35\n",
              "973   37            Private  200153  ...      Husband   Male             40\n",
              "977   40          State-gov  188693  ...      Husband   Male             35\n",
              "\n",
              "[226 rows x 8 columns]"
            ]
          },
          "metadata": {
            "tags": []
          },
          "execution_count": 96
        }
      ]
    },
    {
      "cell_type": "code",
      "metadata": {
        "id": "MIQT2ipbDhUH",
        "colab_type": "code",
        "colab": {
          "base_uri": "https://localhost:8080/",
          "height": 33
        },
        "outputId": "7d0ce542-a38a-4865-db0a-85dcbd11a07a"
      },
      "source": [
        "print('Males that have Marital status ‘Married-civ-spouse’ are earning above 150,000=',d['Gender'].count())"
      ],
      "execution_count": 99,
      "outputs": [
        {
          "output_type": "stream",
          "text": [
            "Males that have Marital status ‘Married-civ-spouse’ are earning above 150,000= 226\n"
          ],
          "name": "stdout"
        }
      ]
    },
    {
      "cell_type": "markdown",
      "metadata": {
        "id": "OKhITkQCEGXr",
        "colab_type": "text"
      },
      "source": [
        "**Problem 7- Are Divorced Individuals of higher age compared to Individuals that are Not-in-family ? Using mean as a measure , answer the above question & mention the respective age of the two groups**"
      ]
    },
    {
      "cell_type": "code",
      "metadata": {
        "id": "WhE4pjY2cPvH",
        "colab_type": "code",
        "colab": {
          "base_uri": "https://localhost:8080/",
          "height": 50
        },
        "outputId": "dd188f15-a672-4882-9964-0e936a058f7a"
      },
      "source": [
        "a=df[(df['marital-status']==' Divorced') & (df['relationship'].isin([' Unmarried',' Own-child',' Other-relative']))]\n",
        "print('Average Age of divorced individuals',a.age.mean())\n",
        "b=df[(df['relationship']==' Not-in-family') & (df['marital-status'].isin([' Never-married',' Separated',' Widowed']))]\n",
        "print('Average age of individuals that are not-in-family',b.age.mean())"
      ],
      "execution_count": 123,
      "outputs": [
        {
          "output_type": "stream",
          "text": [
            "Average Age of divorced individuals 40.67272727272727\n",
            "Average age of individuals that are not-in-family 35.24867724867725\n"
          ],
          "name": "stdout"
        }
      ]
    },
    {
      "cell_type": "markdown",
      "metadata": {
        "id": "YNwKq-YofUTr",
        "colab_type": "text"
      },
      "source": [
        "Yes, divorced individuals are of higher age as compared to the individuals that are not in family"
      ]
    }
  ]
}