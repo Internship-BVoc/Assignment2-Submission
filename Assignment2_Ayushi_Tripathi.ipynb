{
  "nbformat": 4,
  "nbformat_minor": 0,
  "metadata": {
    "colab": {
      "name": "Assignment2_Ayushi Tripathi",
      "provenance": [],
      "collapsed_sections": [],
      "toc_visible": true
    },
    "kernelspec": {
      "name": "python3",
      "display_name": "Python 3"
    }
  },
  "cells": [
    {
      "cell_type": "markdown",
      "metadata": {
        "id": "sV6QSeNLV-l-",
        "colab_type": "text"
      },
      "source": [
        "1.) Identify Categorical variables & Continuous Variables"
      ]
    },
    {
      "cell_type": "code",
      "metadata": {
        "id": "wau27UgaWDH-",
        "colab_type": "code",
        "colab": {
          "base_uri": "https://localhost:8080/",
          "height": 71
        },
        "outputId": "c9a3b9f5-7e24-40fe-aa99-51a966d0b276"
      },
      "source": [
        "import pandas as pd\n",
        "import matplotlib.pyplot as plt\n",
        "import seaborn as sns"
      ],
      "execution_count": 1,
      "outputs": [
        {
          "output_type": "stream",
          "text": [
            "/usr/local/lib/python3.6/dist-packages/statsmodels/tools/_testing.py:19: FutureWarning: pandas.util.testing is deprecated. Use the functions in the public API at pandas.testing instead.\n",
            "  import pandas.util.testing as tm\n"
          ],
          "name": "stderr"
        }
      ]
    },
    {
      "cell_type": "code",
      "metadata": {
        "id": "w5RQr-jbWch-",
        "colab_type": "code",
        "colab": {}
      },
      "source": [
        "df_employee = pd.read_csv(\"/content/employee_data.csv\")"
      ],
      "execution_count": 0,
      "outputs": []
    },
    {
      "cell_type": "code",
      "metadata": {
        "id": "vzbqMjA5WvzG",
        "colab_type": "code",
        "outputId": "8b99be76-3527-426f-be64-13e31f3462cd",
        "colab": {
          "base_uri": "https://localhost:8080/",
          "height": 419
        }
      },
      "source": [
        "df_employee"
      ],
      "execution_count": 3,
      "outputs": [
        {
          "output_type": "execute_result",
          "data": {
            "text/html": [
              "<div>\n",
              "<style scoped>\n",
              "    .dataframe tbody tr th:only-of-type {\n",
              "        vertical-align: middle;\n",
              "    }\n",
              "\n",
              "    .dataframe tbody tr th {\n",
              "        vertical-align: top;\n",
              "    }\n",
              "\n",
              "    .dataframe thead th {\n",
              "        text-align: right;\n",
              "    }\n",
              "</style>\n",
              "<table border=\"1\" class=\"dataframe\">\n",
              "  <thead>\n",
              "    <tr style=\"text-align: right;\">\n",
              "      <th></th>\n",
              "      <th>age</th>\n",
              "      <th>employment_type</th>\n",
              "      <th>salary</th>\n",
              "      <th>education</th>\n",
              "      <th>marital-status</th>\n",
              "      <th>relationship</th>\n",
              "      <th>Gender</th>\n",
              "      <th>hours_per_week</th>\n",
              "    </tr>\n",
              "  </thead>\n",
              "  <tbody>\n",
              "    <tr>\n",
              "      <th>0</th>\n",
              "      <td>39</td>\n",
              "      <td>State-gov</td>\n",
              "      <td>77516</td>\n",
              "      <td>Bachelors</td>\n",
              "      <td>Never-married</td>\n",
              "      <td>Not-in-family</td>\n",
              "      <td>Male</td>\n",
              "      <td>40</td>\n",
              "    </tr>\n",
              "    <tr>\n",
              "      <th>1</th>\n",
              "      <td>50</td>\n",
              "      <td>Self-emp-not-inc</td>\n",
              "      <td>83311</td>\n",
              "      <td>Bachelors</td>\n",
              "      <td>Married-civ-spouse</td>\n",
              "      <td>Husband</td>\n",
              "      <td>Male</td>\n",
              "      <td>13</td>\n",
              "    </tr>\n",
              "    <tr>\n",
              "      <th>2</th>\n",
              "      <td>38</td>\n",
              "      <td>Private</td>\n",
              "      <td>215646</td>\n",
              "      <td>HS-grad</td>\n",
              "      <td>Divorced</td>\n",
              "      <td>Not-in-family</td>\n",
              "      <td>Male</td>\n",
              "      <td>40</td>\n",
              "    </tr>\n",
              "    <tr>\n",
              "      <th>3</th>\n",
              "      <td>53</td>\n",
              "      <td>Private</td>\n",
              "      <td>234721</td>\n",
              "      <td>11th</td>\n",
              "      <td>Married-civ-spouse</td>\n",
              "      <td>Husband</td>\n",
              "      <td>Male</td>\n",
              "      <td>40</td>\n",
              "    </tr>\n",
              "    <tr>\n",
              "      <th>4</th>\n",
              "      <td>28</td>\n",
              "      <td>Private</td>\n",
              "      <td>338409</td>\n",
              "      <td>Bachelors</td>\n",
              "      <td>Married-civ-spouse</td>\n",
              "      <td>Wife</td>\n",
              "      <td>Female</td>\n",
              "      <td>40</td>\n",
              "    </tr>\n",
              "    <tr>\n",
              "      <th>...</th>\n",
              "      <td>...</td>\n",
              "      <td>...</td>\n",
              "      <td>...</td>\n",
              "      <td>...</td>\n",
              "      <td>...</td>\n",
              "      <td>...</td>\n",
              "      <td>...</td>\n",
              "      <td>...</td>\n",
              "    </tr>\n",
              "    <tr>\n",
              "      <th>973</th>\n",
              "      <td>37</td>\n",
              "      <td>Private</td>\n",
              "      <td>200153</td>\n",
              "      <td>HS-grad</td>\n",
              "      <td>Married-civ-spouse</td>\n",
              "      <td>Husband</td>\n",
              "      <td>Male</td>\n",
              "      <td>40</td>\n",
              "    </tr>\n",
              "    <tr>\n",
              "      <th>974</th>\n",
              "      <td>44</td>\n",
              "      <td>Private</td>\n",
              "      <td>32185</td>\n",
              "      <td>HS-grad</td>\n",
              "      <td>Never-married</td>\n",
              "      <td>Unmarried</td>\n",
              "      <td>Male</td>\n",
              "      <td>70</td>\n",
              "    </tr>\n",
              "    <tr>\n",
              "      <th>975</th>\n",
              "      <td>25</td>\n",
              "      <td>Private</td>\n",
              "      <td>178326</td>\n",
              "      <td>Some-college</td>\n",
              "      <td>Never-married</td>\n",
              "      <td>Not-in-family</td>\n",
              "      <td>Female</td>\n",
              "      <td>40</td>\n",
              "    </tr>\n",
              "    <tr>\n",
              "      <th>976</th>\n",
              "      <td>21</td>\n",
              "      <td>Private</td>\n",
              "      <td>255957</td>\n",
              "      <td>Some-college</td>\n",
              "      <td>Never-married</td>\n",
              "      <td>Not-in-family</td>\n",
              "      <td>Female</td>\n",
              "      <td>40</td>\n",
              "    </tr>\n",
              "    <tr>\n",
              "      <th>977</th>\n",
              "      <td>40</td>\n",
              "      <td>State-gov</td>\n",
              "      <td>188693</td>\n",
              "      <td>Masters</td>\n",
              "      <td>Married-civ-spouse</td>\n",
              "      <td>Husband</td>\n",
              "      <td>Male</td>\n",
              "      <td>35</td>\n",
              "    </tr>\n",
              "  </tbody>\n",
              "</table>\n",
              "<p>978 rows × 8 columns</p>\n",
              "</div>"
            ],
            "text/plain": [
              "     age    employment_type  salary  ...    relationship   Gender hours_per_week\n",
              "0     39          State-gov   77516  ...   Not-in-family     Male             40\n",
              "1     50   Self-emp-not-inc   83311  ...         Husband     Male             13\n",
              "2     38            Private  215646  ...   Not-in-family     Male             40\n",
              "3     53            Private  234721  ...         Husband     Male             40\n",
              "4     28            Private  338409  ...            Wife   Female             40\n",
              "..   ...                ...     ...  ...             ...      ...            ...\n",
              "973   37            Private  200153  ...         Husband     Male             40\n",
              "974   44            Private   32185  ...       Unmarried     Male             70\n",
              "975   25            Private  178326  ...   Not-in-family   Female             40\n",
              "976   21            Private  255957  ...   Not-in-family   Female             40\n",
              "977   40          State-gov  188693  ...         Husband     Male             35\n",
              "\n",
              "[978 rows x 8 columns]"
            ]
          },
          "metadata": {
            "tags": []
          },
          "execution_count": 3
        }
      ]
    },
    {
      "cell_type": "code",
      "metadata": {
        "id": "DJsrmGLJW2iI",
        "colab_type": "code",
        "outputId": "68a05850-dc54-4a0e-e263-e367b6a96f2d",
        "colab": {
          "base_uri": "https://localhost:8080/",
          "height": 68
        }
      },
      "source": [
        "df_employee.columns"
      ],
      "execution_count": 4,
      "outputs": [
        {
          "output_type": "execute_result",
          "data": {
            "text/plain": [
              "Index(['age', 'employment_type', 'salary', 'education', 'marital-status',\n",
              "       'relationship', 'Gender', 'hours_per_week'],\n",
              "      dtype='object')"
            ]
          },
          "metadata": {
            "tags": []
          },
          "execution_count": 4
        }
      ]
    },
    {
      "cell_type": "code",
      "metadata": {
        "id": "RE1NjsW6aNI2",
        "colab_type": "code",
        "outputId": "15edaed4-1172-4fe1-c2bf-ba5c869eb22b",
        "colab": {
          "base_uri": "https://localhost:8080/",
          "height": 34
        }
      },
      "source": [
        "df_employee.shape"
      ],
      "execution_count": 5,
      "outputs": [
        {
          "output_type": "execute_result",
          "data": {
            "text/plain": [
              "(978, 8)"
            ]
          },
          "metadata": {
            "tags": []
          },
          "execution_count": 5
        }
      ]
    },
    {
      "cell_type": "code",
      "metadata": {
        "id": "YBF9IU_cazdx",
        "colab_type": "code",
        "outputId": "79ada4c8-1ab0-4069-e79a-d82b735bd235",
        "colab": {
          "base_uri": "https://localhost:8080/",
          "height": 204
        }
      },
      "source": [
        "df_employee.head()"
      ],
      "execution_count": 6,
      "outputs": [
        {
          "output_type": "execute_result",
          "data": {
            "text/html": [
              "<div>\n",
              "<style scoped>\n",
              "    .dataframe tbody tr th:only-of-type {\n",
              "        vertical-align: middle;\n",
              "    }\n",
              "\n",
              "    .dataframe tbody tr th {\n",
              "        vertical-align: top;\n",
              "    }\n",
              "\n",
              "    .dataframe thead th {\n",
              "        text-align: right;\n",
              "    }\n",
              "</style>\n",
              "<table border=\"1\" class=\"dataframe\">\n",
              "  <thead>\n",
              "    <tr style=\"text-align: right;\">\n",
              "      <th></th>\n",
              "      <th>age</th>\n",
              "      <th>employment_type</th>\n",
              "      <th>salary</th>\n",
              "      <th>education</th>\n",
              "      <th>marital-status</th>\n",
              "      <th>relationship</th>\n",
              "      <th>Gender</th>\n",
              "      <th>hours_per_week</th>\n",
              "    </tr>\n",
              "  </thead>\n",
              "  <tbody>\n",
              "    <tr>\n",
              "      <th>0</th>\n",
              "      <td>39</td>\n",
              "      <td>State-gov</td>\n",
              "      <td>77516</td>\n",
              "      <td>Bachelors</td>\n",
              "      <td>Never-married</td>\n",
              "      <td>Not-in-family</td>\n",
              "      <td>Male</td>\n",
              "      <td>40</td>\n",
              "    </tr>\n",
              "    <tr>\n",
              "      <th>1</th>\n",
              "      <td>50</td>\n",
              "      <td>Self-emp-not-inc</td>\n",
              "      <td>83311</td>\n",
              "      <td>Bachelors</td>\n",
              "      <td>Married-civ-spouse</td>\n",
              "      <td>Husband</td>\n",
              "      <td>Male</td>\n",
              "      <td>13</td>\n",
              "    </tr>\n",
              "    <tr>\n",
              "      <th>2</th>\n",
              "      <td>38</td>\n",
              "      <td>Private</td>\n",
              "      <td>215646</td>\n",
              "      <td>HS-grad</td>\n",
              "      <td>Divorced</td>\n",
              "      <td>Not-in-family</td>\n",
              "      <td>Male</td>\n",
              "      <td>40</td>\n",
              "    </tr>\n",
              "    <tr>\n",
              "      <th>3</th>\n",
              "      <td>53</td>\n",
              "      <td>Private</td>\n",
              "      <td>234721</td>\n",
              "      <td>11th</td>\n",
              "      <td>Married-civ-spouse</td>\n",
              "      <td>Husband</td>\n",
              "      <td>Male</td>\n",
              "      <td>40</td>\n",
              "    </tr>\n",
              "    <tr>\n",
              "      <th>4</th>\n",
              "      <td>28</td>\n",
              "      <td>Private</td>\n",
              "      <td>338409</td>\n",
              "      <td>Bachelors</td>\n",
              "      <td>Married-civ-spouse</td>\n",
              "      <td>Wife</td>\n",
              "      <td>Female</td>\n",
              "      <td>40</td>\n",
              "    </tr>\n",
              "  </tbody>\n",
              "</table>\n",
              "</div>"
            ],
            "text/plain": [
              "   age    employment_type  salary  ...    relationship   Gender hours_per_week\n",
              "0   39          State-gov   77516  ...   Not-in-family     Male             40\n",
              "1   50   Self-emp-not-inc   83311  ...         Husband     Male             13\n",
              "2   38            Private  215646  ...   Not-in-family     Male             40\n",
              "3   53            Private  234721  ...         Husband     Male             40\n",
              "4   28            Private  338409  ...            Wife   Female             40\n",
              "\n",
              "[5 rows x 8 columns]"
            ]
          },
          "metadata": {
            "tags": []
          },
          "execution_count": 6
        }
      ]
    },
    {
      "cell_type": "markdown",
      "metadata": {
        "id": "doXyc-r-bWej",
        "colab_type": "text"
      },
      "source": [
        "Categorical variables in the Dataset"
      ]
    },
    {
      "cell_type": "code",
      "metadata": {
        "id": "uP6TcdOna-7A",
        "colab_type": "code",
        "outputId": "0517222e-f4b8-46fd-8403-4fccd42be580",
        "colab": {
          "base_uri": "https://localhost:8080/",
          "height": 51
        }
      },
      "source": [
        "#employment_type\n",
        "df_employee['employment_type'].unique()"
      ],
      "execution_count": 7,
      "outputs": [
        {
          "output_type": "execute_result",
          "data": {
            "text/plain": [
              "array([' State-gov', ' Self-emp-not-inc', ' Private', ' Federal-gov',\n",
              "       ' Local-gov', ' ?', ' Self-emp-inc'], dtype=object)"
            ]
          },
          "metadata": {
            "tags": []
          },
          "execution_count": 7
        }
      ]
    },
    {
      "cell_type": "code",
      "metadata": {
        "id": "CEXddp8IcTBu",
        "colab_type": "code",
        "outputId": "57dfccae-23dc-440b-dc39-c8c27c22ef9a",
        "colab": {
          "base_uri": "https://localhost:8080/",
          "height": 85
        }
      },
      "source": [
        "#education\n",
        "df_employee['education'].unique()"
      ],
      "execution_count": 8,
      "outputs": [
        {
          "output_type": "execute_result",
          "data": {
            "text/plain": [
              "array([' Bachelors', ' HS-grad', ' 11th', ' Masters', ' 9th',\n",
              "       ' Some-college', ' Assoc-acdm', ' Assoc-voc', ' 7th-8th',\n",
              "       ' Doctorate', ' Prof-school', ' 5th-6th', ' 10th', ' 1st-4th',\n",
              "       ' Preschool', ' 12th'], dtype=object)"
            ]
          },
          "metadata": {
            "tags": []
          },
          "execution_count": 8
        }
      ]
    },
    {
      "cell_type": "code",
      "metadata": {
        "id": "7jPa44ORcqgx",
        "colab_type": "code",
        "outputId": "760b1edd-a379-4657-a9bd-cb25907b7144",
        "colab": {
          "base_uri": "https://localhost:8080/",
          "height": 68
        }
      },
      "source": [
        "#marital-status\n",
        "df_employee['marital-status'].unique()"
      ],
      "execution_count": 9,
      "outputs": [
        {
          "output_type": "execute_result",
          "data": {
            "text/plain": [
              "array([' Never-married', ' Married-civ-spouse', ' Divorced',\n",
              "       ' Married-spouse-absent', ' Separated', ' Married-AF-spouse',\n",
              "       ' Widowed'], dtype=object)"
            ]
          },
          "metadata": {
            "tags": []
          },
          "execution_count": 9
        }
      ]
    },
    {
      "cell_type": "code",
      "metadata": {
        "id": "pFIoFXRndFl2",
        "colab_type": "code",
        "outputId": "0267be22-ac47-4401-ffd8-b8af4caa49af",
        "colab": {
          "base_uri": "https://localhost:8080/",
          "height": 51
        }
      },
      "source": [
        "#relationship\t\n",
        "df_employee['relationship'].unique()"
      ],
      "execution_count": 10,
      "outputs": [
        {
          "output_type": "execute_result",
          "data": {
            "text/plain": [
              "array([' Not-in-family', ' Husband', ' Wife', ' Own-child', ' Unmarried',\n",
              "       ' Other-relative'], dtype=object)"
            ]
          },
          "metadata": {
            "tags": []
          },
          "execution_count": 10
        }
      ]
    },
    {
      "cell_type": "code",
      "metadata": {
        "id": "oBhziZU0dQcZ",
        "colab_type": "code",
        "outputId": "15597690-a193-4ca6-d779-29d9c8c6ec46",
        "colab": {
          "base_uri": "https://localhost:8080/",
          "height": 34
        }
      },
      "source": [
        "#Gender\n",
        "df_employee['Gender'].unique()"
      ],
      "execution_count": 11,
      "outputs": [
        {
          "output_type": "execute_result",
          "data": {
            "text/plain": [
              "array([' Male', ' Female'], dtype=object)"
            ]
          },
          "metadata": {
            "tags": []
          },
          "execution_count": 11
        }
      ]
    },
    {
      "cell_type": "markdown",
      "metadata": {
        "id": "SZ01D-Qld2Df",
        "colab_type": "text"
      },
      "source": [
        " Continuous variables in dataset"
      ]
    },
    {
      "cell_type": "code",
      "metadata": {
        "id": "3ycvvzp7diOa",
        "colab_type": "code",
        "outputId": "1f4f1e22-c6d3-4a87-ea23-702a02796ce5",
        "colab": {
          "base_uri": "https://localhost:8080/",
          "height": 34
        }
      },
      "source": [
        "len(df_employee['age'].unique())"
      ],
      "execution_count": 12,
      "outputs": [
        {
          "output_type": "execute_result",
          "data": {
            "text/plain": [
              "65"
            ]
          },
          "metadata": {
            "tags": []
          },
          "execution_count": 12
        }
      ]
    },
    {
      "cell_type": "code",
      "metadata": {
        "id": "fTHkjMBkeNU7",
        "colab_type": "code",
        "outputId": "f831c8a7-2aa3-4a0d-9f6e-8ca7780cf931",
        "colab": {
          "base_uri": "https://localhost:8080/",
          "height": 34
        }
      },
      "source": [
        "len(df_employee['salary'].unique())"
      ],
      "execution_count": 13,
      "outputs": [
        {
          "output_type": "execute_result",
          "data": {
            "text/plain": [
              "966"
            ]
          },
          "metadata": {
            "tags": []
          },
          "execution_count": 13
        }
      ]
    },
    {
      "cell_type": "code",
      "metadata": {
        "id": "Di-JRsqceXsC",
        "colab_type": "code",
        "outputId": "3dd2edd4-92d8-4388-960d-614b7d5f011a",
        "colab": {
          "base_uri": "https://localhost:8080/",
          "height": 34
        }
      },
      "source": [
        "len(df_employee['hours_per_week'].unique())"
      ],
      "execution_count": 14,
      "outputs": [
        {
          "output_type": "execute_result",
          "data": {
            "text/plain": [
              "56"
            ]
          },
          "metadata": {
            "tags": []
          },
          "execution_count": 14
        }
      ]
    },
    {
      "cell_type": "markdown",
      "metadata": {
        "id": "WFDdOPuIft4W",
        "colab_type": "text"
      },
      "source": [
        "2.)Carry on a Univariate analysis on all the Variables/Fields. User bar plots for Categorical Variables & histogram or line plot for Continuous ones. Label the plot and axis clearly for intuitive understanding. Mention observations drawn from each Univariate plot\n",
        "#Univariate analysis of continuous variable"
      ]
    },
    {
      "cell_type": "code",
      "metadata": {
        "id": "npa4MHeifxa9",
        "colab_type": "code",
        "outputId": "5208aab3-bdb7-4c24-82f3-2199d75fd1cd",
        "colab": {
          "base_uri": "https://localhost:8080/",
          "height": 526
        }
      },
      "source": [
        "#Takes all numerical data and plots\n",
        "df_employee.hist(figsize=[19,8])\n"
      ],
      "execution_count": 15,
      "outputs": [
        {
          "output_type": "execute_result",
          "data": {
            "text/plain": [
              "array([[<matplotlib.axes._subplots.AxesSubplot object at 0x7fcd9ba1c898>,\n",
              "        <matplotlib.axes._subplots.AxesSubplot object at 0x7fcd9b9f6b70>],\n",
              "       [<matplotlib.axes._subplots.AxesSubplot object at 0x7fcd9b9acdd8>,\n",
              "        <matplotlib.axes._subplots.AxesSubplot object at 0x7fcd9b96c080>]],\n",
              "      dtype=object)"
            ]
          },
          "metadata": {
            "tags": []
          },
          "execution_count": 15
        },
        {
          "output_type": "display_data",
          "data": {
            "image/png": "[encoded data removed]",
            "text/plain": [
              "<Figure size 1368x576 with 4 Axes>"
            ]
          },
          "metadata": {
            "tags": [],
            "needs_background": "light"
          }
        }
      ]
    },
    {
      "cell_type": "markdown",
      "metadata": {
        "id": "EwEYW6_pCD-K",
        "colab_type": "text"
      },
      "source": [
        "Inferences\n",
        "\n",
        "1.   Number of employees are maximum whose age lies between 40-45 and also employees are  maximum for univariate variable age.\n",
        "\n",
        "2.  for univariate variable hours-per-week the no of employees are maximum from (30-40) hours-per-week  but as we move left and right to this order the number of employees are decreases.\n",
        "\n",
        "3. for univariate variable salary the no of of employees are maximum for  salary order (0.03-0.2) but after 0.2 the no of employees are decreases.\n",
        " \n",
        "4. In all the plots in comparison to each other the no of employees are seen maximum for univariate variable age then for univariate variable salary and then for univariate variable hours-per-week.\n",
        "\n",
        "\n",
        "\n",
        "\n",
        "\n"
      ]
    },
    {
      "cell_type": "markdown",
      "metadata": {
        "id": "FwT2qWLdiP6X",
        "colab_type": "text"
      },
      "source": [
        "## Univariate analyses on catagorial Variables.\n",
        "#use bar plots for  categorial **variables**"
      ]
    },
    {
      "cell_type": "code",
      "metadata": {
        "id": "v96HYqY9LuW5",
        "colab_type": "code",
        "colab": {
          "base_uri": "https://localhost:8080/",
          "height": 358
        },
        "outputId": "de9faf00-8b4d-4066-cd6a-3be503a6f2f9"
      },
      "source": [
        "df_employee['employment_type'].value_counts().plot.bar()"
      ],
      "execution_count": 51,
      "outputs": [
        {
          "output_type": "execute_result",
          "data": {
            "text/plain": [
              "<matplotlib.axes._subplots.AxesSubplot at 0x7fcd982d7f60>"
            ]
          },
          "metadata": {
            "tags": []
          },
          "execution_count": 51
        },
        {
          "output_type": "display_data",
          "data": {
            "image/png": "[encoded data removed]",
            "text/plain": [
              "<Figure size 432x288 with 1 Axes>"
            ]
          },
          "metadata": {
            "tags": [],
            "needs_background": "light"
          }
        }
      ]
    },
    {
      "cell_type": "markdown",
      "metadata": {
        "id": "jyGeKXNlLgEg",
        "colab_type": "text"
      },
      "source": [
        "Inferences\n",
        "\n",
        "1.) The employement-type private is highest among all the employement-type and also number of employees are also maximum for this.\n",
        "\n",
        "2.)The employement-type Federal-gov is lowest among all the employement-type  and also number of employees are also lowest for this.\n",
        "\n"
      ]
    },
    {
      "cell_type": "code",
      "metadata": {
        "id": "exfjNALWjNrH",
        "colab_type": "code",
        "outputId": "a99bcf7a-f281-4e29-e82a-822c6e6c2254",
        "colab": {
          "base_uri": "https://localhost:8080/",
          "height": 343
        }
      },
      "source": [
        "df_employee['education'].value_counts().plot.bar()"
      ],
      "execution_count": 52,
      "outputs": [
        {
          "output_type": "execute_result",
          "data": {
            "text/plain": [
              "<matplotlib.axes._subplots.AxesSubplot at 0x7fcd96681b70>"
            ]
          },
          "metadata": {
            "tags": []
          },
          "execution_count": 52
        },
        {
          "output_type": "display_data",
          "data": {
            "image/png": "[encoded data removed]",
            "text/plain": [
              "<Figure size 432x288 with 1 Axes>"
            ]
          },
          "metadata": {
            "tags": [],
            "needs_background": "light"
          }
        }
      ]
    },
    {
      "cell_type": "markdown",
      "metadata": {
        "id": "gF4ubFtAMz6Z",
        "colab_type": "text"
      },
      "source": [
        "Inferences\n",
        "\n",
        "1.) The number of employess are maximum for education HS-grad\n",
        "\n",
        "2.)The number of employess are lowest or minimum for education Preschool.\n",
        "\n"
      ]
    },
    {
      "cell_type": "code",
      "metadata": {
        "id": "Yn_vsbWPj55F",
        "colab_type": "code",
        "outputId": "3761e7cc-9c94-4c70-c146-6cb3116cf0be",
        "colab": {
          "base_uri": "https://localhost:8080/",
          "height": 390
        }
      },
      "source": [
        "df_employee['marital-status'].value_counts().plot.bar()"
      ],
      "execution_count": 18,
      "outputs": [
        {
          "output_type": "execute_result",
          "data": {
            "text/plain": [
              "<matplotlib.axes._subplots.AxesSubplot at 0x7fcd9b2f5a20>"
            ]
          },
          "metadata": {
            "tags": []
          },
          "execution_count": 18
        },
        {
          "output_type": "display_data",
          "data": {
            "image/png": "[encoded data removed]",
            "text/plain": [
              "<Figure size 432x288 with 1 Axes>"
            ]
          },
          "metadata": {
            "tags": [],
            "needs_background": "light"
          }
        }
      ]
    },
    {
      "cell_type": "markdown",
      "metadata": {
        "id": "hqIRhU0iN7p4",
        "colab_type": "text"
      },
      "source": [
        "Inferences\n",
        "\n",
        "1.)  The marital-status Married-civ-spouse are maximum number of employees\n",
        "\n",
        "2.)The marital-status Married-Af-spouse  are lowest or minimum number of employees"
      ]
    },
    {
      "cell_type": "code",
      "metadata": {
        "id": "5eHzHdC1kprm",
        "colab_type": "code",
        "outputId": "4ca43b74-a88e-49c9-be3d-6ad8acca337a",
        "colab": {
          "base_uri": "https://localhost:8080/",
          "height": 344
        }
      },
      "source": [
        "df_employee['relationship'].value_counts().plot.bar()"
      ],
      "execution_count": 19,
      "outputs": [
        {
          "output_type": "execute_result",
          "data": {
            "text/plain": [
              "<matplotlib.axes._subplots.AxesSubplot at 0x7fcd9b234908>"
            ]
          },
          "metadata": {
            "tags": []
          },
          "execution_count": 19
        },
        {
          "output_type": "display_data",
          "data": {
            "image/png": "[encoded data removed]",
            "text/plain": [
              "<Figure size 432x288 with 1 Axes>"
            ]
          },
          "metadata": {
            "tags": [],
            "needs_background": "light"
          }
        }
      ]
    },
    {
      "cell_type": "markdown",
      "metadata": {
        "id": "16Bz2dJuPI4G",
        "colab_type": "text"
      },
      "source": [
        "Inferences\n",
        "\n",
        "1.) The employees having relationship husband are maximum while employees which comes under relationship Other-relative are less.\n"
      ]
    },
    {
      "cell_type": "code",
      "metadata": {
        "id": "zjIBLMxDkzwd",
        "colab_type": "code",
        "outputId": "c980e20b-136b-4f48-a75e-4e1bb2d04c01",
        "colab": {
          "base_uri": "https://localhost:8080/",
          "height": 312
        }
      },
      "source": [
        "df_employee['Gender'].value_counts().plot.bar()"
      ],
      "execution_count": 20,
      "outputs": [
        {
          "output_type": "execute_result",
          "data": {
            "text/plain": [
              "<matplotlib.axes._subplots.AxesSubplot at 0x7fcd9b1aee48>"
            ]
          },
          "metadata": {
            "tags": []
          },
          "execution_count": 20
        },
        {
          "output_type": "display_data",
          "data": {
            "image/png": "[encoded data removed]",
            "text/plain": [
              "<Figure size 432x288 with 1 Axes>"
            ]
          },
          "metadata": {
            "tags": [],
            "needs_background": "light"
          }
        }
      ]
    },
    {
      "cell_type": "markdown",
      "metadata": {
        "id": "CnHYudaIPXT_",
        "colab_type": "text"
      },
      "source": [
        "Inference\n",
        "\n",
        "1) The number of male employees are more than the number of female emloyees"
      ]
    },
    {
      "cell_type": "code",
      "metadata": {
        "id": "jPgY_bCAk72a",
        "colab_type": "code",
        "colab": {}
      },
      "source": [
        ""
      ],
      "execution_count": 0,
      "outputs": []
    },
    {
      "cell_type": "markdown",
      "metadata": {
        "id": "YUOmne3cqmXm",
        "colab_type": "text"
      },
      "source": [
        "###3.) Show a bivariate analysis between Salary and hour_per_week.Choose a plot of your choice. Mention the inferences drawn"
      ]
    },
    {
      "cell_type": "code",
      "metadata": {
        "id": "k21Kq7_VqrDL",
        "colab_type": "code",
        "outputId": "83e697c7-dd3d-49a8-9a48-38e5ef06b58d",
        "colab": {
          "base_uri": "https://localhost:8080/",
          "height": 297
        }
      },
      "source": [
        "df_employee.plot.hist(x='hours_per_week', y=\"salary\")\n",
        "plt.xlabel('hours_per_week')\n",
        "plt.ylabel('salary')"
      ],
      "execution_count": 50,
      "outputs": [
        {
          "output_type": "execute_result",
          "data": {
            "text/plain": [
              "Text(0, 0.5, 'salary')"
            ]
          },
          "metadata": {
            "tags": []
          },
          "execution_count": 50
        },
        {
          "output_type": "display_data",
          "data": {
            "image/png": "[encoded data removed]",
            "text/plain": [
              "<Figure size 432x288 with 1 Axes>"
            ]
          },
          "metadata": {
            "tags": [],
            "needs_background": "light"
          }
        }
      ]
    },
    {
      "cell_type": "markdown",
      "metadata": {
        "id": "h68-QJ826cSY",
        "colab_type": "text"
      },
      "source": [
        "Inference\n",
        "\n",
        " salary is maximum when hours_per_week lies between somewhat 0.03 to 0.2 and as when hours_per_week is increases along x-axis the salary is decreases continuosly and at some point 0.7 to 0.8 it becomes almost zero but  after 0.8 salary is very small but constant."
      ]
    },
    {
      "cell_type": "markdown",
      "metadata": {
        "id": "AuRxJccVv2uf",
        "colab_type": "text"
      },
      "source": [
        "4.)For each Education type , showcase the distribution of Salary .Use Seaborn Facetgrid & Line plot.Identify the key observations and mention them\n",
        "\n",
        "\n"
      ]
    },
    {
      "cell_type": "code",
      "metadata": {
        "id": "3iTtBmRLrNuF",
        "colab_type": "code",
        "outputId": "4237eb17-9063-453d-f8c3-3fdfa7409bf9",
        "colab": {
          "base_uri": "https://localhost:8080/",
          "height": 1000
        }
      },
      "source": [
        "fn = sns.FacetGrid(df_employee,col='education',col_wrap=3,height=4, aspect=1)\n",
        "fn = fn.map(plt.plot,\"salary\")\n"
      ],
      "execution_count": 22,
      "outputs": [
        {
          "output_type": "display_data",
          "data": {
            "image/png": "[encoded data removed]",
            "text/plain": [
              "<Figure size 864x1728 with 16 Axes>"
            ]
          },
          "metadata": {
            "tags": [],
            "needs_background": "light"
          }
        }
      ]
    },
    {
      "cell_type": "markdown",
      "metadata": {
        "id": "u4_GrIFx0dOm",
        "colab_type": "text"
      },
      "source": [
        "Inferences\n",
        "\n",
        "1.  salary of education type HS-grad is continuously increasing and decreasing but no-where it is zero or None.\n",
        "\n",
        "2.   salary of education type Some-college is maximum at particular point somewhere in the middle of the plot  as compared to all graphs but it is decressing or increasing to  as we are moving left and right to that point but always remain less to that point.\n",
        "\n",
        "3.  salary is very low for education type Preschool as compared salaries of all other education types.\n",
        "\n",
        "4.  salary except for education types discussed above is first increasing  then decreasing  and vice versa for almost graphs.\n",
        "\n"
      ]
    },
    {
      "cell_type": "markdown",
      "metadata": {
        "id": "CbbdurAM106d",
        "colab_type": "text"
      },
      "source": [
        "5.)Categorizing each Gender & Relationship status (combination of all values) , plot the hours_per_week worked.Choose appropriate plots.Mention the inferences drawn"
      ]
    },
    {
      "cell_type": "code",
      "metadata": {
        "id": "vqIoPSVM2BLt",
        "colab_type": "code",
        "outputId": "066c6427-11e7-4e63-ee0e-ce473fef0db9",
        "colab": {
          "base_uri": "https://localhost:8080/",
          "height": 1000
        }
      },
      "source": [
        "fn =sns.FacetGrid(df_employee,col='Gender',row='relationship',palette=\"GnBu_d\",gridspec_kws={\"width_ratios\": [3, 3]}, height=5,aspect=1)\n",
        "fn = fn.map(plt.hist,\"hours_per_week\")"
      ],
      "execution_count": 23,
      "outputs": [
        {
          "output_type": "display_data",
          "data": {
            "image/png": "[encoded data removed]",
            "text/plain": [
              "<Figure size 720x2160 with 12 Axes>"
            ]
          },
          "metadata": {
            "tags": [],
            "needs_background": "light"
          }
        }
      ]
    },
    {
      "cell_type": "markdown",
      "metadata": {
        "id": "ODodS6TIq72b",
        "colab_type": "text"
      },
      "source": [
        "Inferences\n",
        "\n",
        "1.)hours_per_week worked are maximum for relationship  husband  and gender is male as comapred to all combinations of relationship and gender\n",
        "\n",
        "2.)hours_per_week worked are null for relationship husband and gender female   as compared to relationship  wife and gender male.\n",
        "\n",
        "3.)hours_per_week worked are maximum for relationship wife and gender female while it is almost null for relationship wife and gender male.\n",
        "\n",
        "4.)hours_per_week worked are maximum for relationship unmarried and gender female as compared to relationship unmarried and gender male.\n",
        "\n",
        "\n"
      ]
    },
    {
      "cell_type": "markdown",
      "metadata": {
        "id": "XRcgkpTy7jB3",
        "colab_type": "text"
      },
      "source": [
        "6.)How many Males that have Marital status ‘Married-civ-spouse’ are earning above 150,000 ?"
      ]
    },
    {
      "cell_type": "code",
      "metadata": {
        "id": "BY9SXyPS5JCp",
        "colab_type": "code",
        "outputId": "18cccd5c-cc4b-4199-ce23-4eb8b087248d",
        "colab": {
          "base_uri": "https://localhost:8080/",
          "height": 51
        }
      },
      "source": [
        "df_employee[(df_employee['Gender'] == ' Male') & (df_employee['marital-status'] == ' Married-civ-spouse')&( df_employee['salary']>150000)].count()[['Gender']]\n"
      ],
      "execution_count": 24,
      "outputs": [
        {
          "output_type": "execute_result",
          "data": {
            "text/plain": [
              "Gender    226\n",
              "dtype: int64"
            ]
          },
          "metadata": {
            "tags": []
          },
          "execution_count": 24
        }
      ]
    },
    {
      "cell_type": "markdown",
      "metadata": {
        "id": "byra71IHqedL",
        "colab_type": "text"
      },
      "source": [
        "226 Males that have Marital status ‘Married-civ-spouse’ are earning above 150,000 .\n",
        "\n",
        "\n",
        "\n",
        "\n",
        "\n",
        "\n",
        "\n"
      ]
    },
    {
      "cell_type": "markdown",
      "metadata": {
        "id": "fr-fYOHmHDJ0",
        "colab_type": "text"
      },
      "source": [
        "7.)Are Divorced Individuals of higher age compared to Individuals that are Not-in-family ? Using mean as a measure , answer the above question & mention the respective age of the two groups"
      ]
    },
    {
      "cell_type": "code",
      "metadata": {
        "id": "MHmCYS2gNSbG",
        "colab_type": "code",
        "colab": {
          "base_uri": "https://localhost:8080/",
          "height": 51
        },
        "outputId": "f063d8b4-ac83-480c-fb15-6bdf8f4bb7bd"
      },
      "source": [
        "df_employee[ (df_employee['marital-status'] ==  ' Divorced')].mean()[['age']]"
      ],
      "execution_count": 33,
      "outputs": [
        {
          "output_type": "execute_result",
          "data": {
            "text/plain": [
              "age    42.030769\n",
              "dtype: float64"
            ]
          },
          "metadata": {
            "tags": []
          },
          "execution_count": 33
        }
      ]
    },
    {
      "cell_type": "code",
      "metadata": {
        "id": "7A4E896HiR7_",
        "colab_type": "code",
        "colab": {
          "base_uri": "https://localhost:8080/",
          "height": 51
        },
        "outputId": "a8738b69-c0ac-4528-c066-b19fdb93370e"
      },
      "source": [
        "df_employee[(df_employee['relationship'] == ' Not-in-family')].mean()[['age']]"
      ],
      "execution_count": 34,
      "outputs": [
        {
          "output_type": "execute_result",
          "data": {
            "text/plain": [
              "age    37.485185\n",
              "dtype: float64"
            ]
          },
          "metadata": {
            "tags": []
          },
          "execution_count": 34
        }
      ]
    },
    {
      "cell_type": "markdown",
      "metadata": {
        "id": "LTLdH6Gkm9sF",
        "colab_type": "text"
      },
      "source": [
        "Above we have seen that the average age of Divorced Individuals is higher i.e 42.030769 than that of Individuals that are not in family i.e 37.485185.\n",
        "So,Answer is Yes that Divorced individuals are of higher age than that of individuals that are not in family."
      ]
    },
    {
      "cell_type": "code",
      "metadata": {
        "id": "YR6f9hUNk7Uw",
        "colab_type": "code",
        "colab": {
          "base_uri": "https://localhost:8080/",
          "height": 419
        },
        "outputId": "f5c0e75e-f10b-4e80-ff82-b0f194f8763d"
      },
      "source": [
        "df_employee[ (df_employee['marital-status'] ==  ' Divorced')][['marital-status','age']]"
      ],
      "execution_count": 36,
      "outputs": [
        {
          "output_type": "execute_result",
          "data": {
            "text/html": [
              "<div>\n",
              "<style scoped>\n",
              "    .dataframe tbody tr th:only-of-type {\n",
              "        vertical-align: middle;\n",
              "    }\n",
              "\n",
              "    .dataframe tbody tr th {\n",
              "        vertical-align: top;\n",
              "    }\n",
              "\n",
              "    .dataframe thead th {\n",
              "        text-align: right;\n",
              "    }\n",
              "</style>\n",
              "<table border=\"1\" class=\"dataframe\">\n",
              "  <thead>\n",
              "    <tr style=\"text-align: right;\">\n",
              "      <th></th>\n",
              "      <th>marital-status</th>\n",
              "      <th>age</th>\n",
              "    </tr>\n",
              "  </thead>\n",
              "  <tbody>\n",
              "    <tr>\n",
              "      <th>2</th>\n",
              "      <td>Divorced</td>\n",
              "      <td>38</td>\n",
              "    </tr>\n",
              "    <tr>\n",
              "      <th>19</th>\n",
              "      <td>Divorced</td>\n",
              "      <td>43</td>\n",
              "    </tr>\n",
              "    <tr>\n",
              "      <th>24</th>\n",
              "      <td>Divorced</td>\n",
              "      <td>59</td>\n",
              "    </tr>\n",
              "    <tr>\n",
              "      <th>28</th>\n",
              "      <td>Divorced</td>\n",
              "      <td>39</td>\n",
              "    </tr>\n",
              "    <tr>\n",
              "      <th>32</th>\n",
              "      <td>Divorced</td>\n",
              "      <td>45</td>\n",
              "    </tr>\n",
              "    <tr>\n",
              "      <th>...</th>\n",
              "      <td>...</td>\n",
              "      <td>...</td>\n",
              "    </tr>\n",
              "    <tr>\n",
              "      <th>948</th>\n",
              "      <td>Divorced</td>\n",
              "      <td>43</td>\n",
              "    </tr>\n",
              "    <tr>\n",
              "      <th>949</th>\n",
              "      <td>Divorced</td>\n",
              "      <td>44</td>\n",
              "    </tr>\n",
              "    <tr>\n",
              "      <th>957</th>\n",
              "      <td>Divorced</td>\n",
              "      <td>33</td>\n",
              "    </tr>\n",
              "    <tr>\n",
              "      <th>961</th>\n",
              "      <td>Divorced</td>\n",
              "      <td>32</td>\n",
              "    </tr>\n",
              "    <tr>\n",
              "      <th>963</th>\n",
              "      <td>Divorced</td>\n",
              "      <td>36</td>\n",
              "    </tr>\n",
              "  </tbody>\n",
              "</table>\n",
              "<p>130 rows × 2 columns</p>\n",
              "</div>"
            ],
            "text/plain": [
              "    marital-status  age\n",
              "2         Divorced   38\n",
              "19        Divorced   43\n",
              "24        Divorced   59\n",
              "28        Divorced   39\n",
              "32        Divorced   45\n",
              "..             ...  ...\n",
              "948       Divorced   43\n",
              "949       Divorced   44\n",
              "957       Divorced   33\n",
              "961       Divorced   32\n",
              "963       Divorced   36\n",
              "\n",
              "[130 rows x 2 columns]"
            ]
          },
          "metadata": {
            "tags": []
          },
          "execution_count": 36
        }
      ]
    },
    {
      "cell_type": "markdown",
      "metadata": {
        "id": "daokylvhoYac",
        "colab_type": "text"
      },
      "source": [
        "Respective age of Divorced Individuals is shown above."
      ]
    },
    {
      "cell_type": "code",
      "metadata": {
        "id": "gSutNTpgmcko",
        "colab_type": "code",
        "colab": {
          "base_uri": "https://localhost:8080/",
          "height": 419
        },
        "outputId": "cd22b7ab-fe1f-4d33-a0c3-67f7134073a4"
      },
      "source": [
        "df_employee[(df_employee['relationship'] == ' Not-in-family')][['relationship','age']]"
      ],
      "execution_count": 38,
      "outputs": [
        {
          "output_type": "execute_result",
          "data": {
            "text/html": [
              "<div>\n",
              "<style scoped>\n",
              "    .dataframe tbody tr th:only-of-type {\n",
              "        vertical-align: middle;\n",
              "    }\n",
              "\n",
              "    .dataframe tbody tr th {\n",
              "        vertical-align: top;\n",
              "    }\n",
              "\n",
              "    .dataframe thead th {\n",
              "        text-align: right;\n",
              "    }\n",
              "</style>\n",
              "<table border=\"1\" class=\"dataframe\">\n",
              "  <thead>\n",
              "    <tr style=\"text-align: right;\">\n",
              "      <th></th>\n",
              "      <th>relationship</th>\n",
              "      <th>age</th>\n",
              "    </tr>\n",
              "  </thead>\n",
              "  <tbody>\n",
              "    <tr>\n",
              "      <th>0</th>\n",
              "      <td>Not-in-family</td>\n",
              "      <td>39</td>\n",
              "    </tr>\n",
              "    <tr>\n",
              "      <th>2</th>\n",
              "      <td>Not-in-family</td>\n",
              "      <td>38</td>\n",
              "    </tr>\n",
              "    <tr>\n",
              "      <th>6</th>\n",
              "      <td>Not-in-family</td>\n",
              "      <td>49</td>\n",
              "    </tr>\n",
              "    <tr>\n",
              "      <th>8</th>\n",
              "      <td>Not-in-family</td>\n",
              "      <td>31</td>\n",
              "    </tr>\n",
              "    <tr>\n",
              "      <th>13</th>\n",
              "      <td>Not-in-family</td>\n",
              "      <td>32</td>\n",
              "    </tr>\n",
              "    <tr>\n",
              "      <th>...</th>\n",
              "      <td>...</td>\n",
              "      <td>...</td>\n",
              "    </tr>\n",
              "    <tr>\n",
              "      <th>969</th>\n",
              "      <td>Not-in-family</td>\n",
              "      <td>36</td>\n",
              "    </tr>\n",
              "    <tr>\n",
              "      <th>971</th>\n",
              "      <td>Not-in-family</td>\n",
              "      <td>28</td>\n",
              "    </tr>\n",
              "    <tr>\n",
              "      <th>972</th>\n",
              "      <td>Not-in-family</td>\n",
              "      <td>67</td>\n",
              "    </tr>\n",
              "    <tr>\n",
              "      <th>975</th>\n",
              "      <td>Not-in-family</td>\n",
              "      <td>25</td>\n",
              "    </tr>\n",
              "    <tr>\n",
              "      <th>976</th>\n",
              "      <td>Not-in-family</td>\n",
              "      <td>21</td>\n",
              "    </tr>\n",
              "  </tbody>\n",
              "</table>\n",
              "<p>270 rows × 2 columns</p>\n",
              "</div>"
            ],
            "text/plain": [
              "       relationship  age\n",
              "0     Not-in-family   39\n",
              "2     Not-in-family   38\n",
              "6     Not-in-family   49\n",
              "8     Not-in-family   31\n",
              "13    Not-in-family   32\n",
              "..              ...  ...\n",
              "969   Not-in-family   36\n",
              "971   Not-in-family   28\n",
              "972   Not-in-family   67\n",
              "975   Not-in-family   25\n",
              "976   Not-in-family   21\n",
              "\n",
              "[270 rows x 2 columns]"
            ]
          },
          "metadata": {
            "tags": []
          },
          "execution_count": 38
        }
      ]
    },
    {
      "cell_type": "markdown",
      "metadata": {
        "id": "r8_mZ5vRopTp",
        "colab_type": "text"
      },
      "source": [
        "Respective age of Individuals that are not in family is shown above"
      ]
    }
  ]
}