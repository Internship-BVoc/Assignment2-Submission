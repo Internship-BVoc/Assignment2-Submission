{
  "nbformat": 4,
  "nbformat_minor": 0,
  "metadata": {
    "colab": {
      "name": "Untitled0.ipynb",
      "provenance": []
    },
    "kernelspec": {
      "name": "python3",
      "display_name": "Python 3"
    },
    "accelerator": "TPU"
  },
  "cells": [
    {
      "cell_type": "code",
      "metadata": {
        "id": "lZRcaYoe4kV3",
        "colab_type": "code",
        "colab": {}
      },
      "source": [
        "import pandas as pd\n",
        "import numpy as np"
      ],
      "execution_count": 0,
      "outputs": []
    },
    {
      "cell_type": "markdown",
      "metadata": {
        "id": "DPN2pasF4Wff",
        "colab_type": "text"
      },
      "source": [
        "SERIES AND DATAFRAMES\n"
      ]
    },
    {
      "cell_type": "markdown",
      "metadata": {
        "id": "6FW9t-UG4dIv",
        "colab_type": "text"
      },
      "source": [
        "1. SERIES"
      ]
    },
    {
      "cell_type": "code",
      "metadata": {
        "id": "55CK8g0l4f6J",
        "colab_type": "code",
        "colab": {}
      },
      "source": [
        "obj =pd.Series([4,3,2,5])\n",
        "obj"
      ],
      "execution_count": 0,
      "outputs": []
    },
    {
      "cell_type": "code",
      "metadata": {
        "id": "J5rQx6E247lR",
        "colab_type": "code",
        "colab": {}
      },
      "source": [
        "data  = {\n",
        "    'name':['satyam', 'mukul', 'anyname'],\n",
        "    'age': [23,24,34]\n",
        "}\n",
        "df = pd.DataFrame(\n",
        "    data\n",
        ")\n",
        "df['debt'] = 23\n",
        "df['debt'] = [ 23,53,23]\n",
        "\n",
        "df.reindex(['a' , 'b' , 'c ','t'], method = )"
      ],
      "execution_count": 0,
      "outputs": []
    },
    {
      "cell_type": "markdown",
      "metadata": {
        "id": "nXhCksf5foYq",
        "colab_type": "text"
      },
      "source": [
        " data wrangling"
      ]
    },
    {
      "cell_type": "code",
      "metadata": {
        "id": "mZgDu_0xfnqS",
        "colab_type": "code",
        "colab": {}
      },
      "source": [
        "df = pd.read_csv('/content/employee_data.csv', sep=',', chunksize= 100)\n",
        "for piece in df:\n",
        "  t = piece['Gender'].value_counts()\n",
        "print(t[:10])"
      ],
      "execution_count": 0,
      "outputs": []
    },
    {
      "cell_type": "code",
      "metadata": {
        "id": "UQHTegp6gck5",
        "colab_type": "code",
        "colab": {}
      },
      "source": [
        ""
      ],
      "execution_count": 0,
      "outputs": []
    },
    {
      "cell_type": "code",
      "metadata": {
        "id": "p-Rww6iEv0th",
        "colab_type": "code",
        "colab": {}
      },
      "source": [
        ""
      ],
      "execution_count": 0,
      "outputs": []
    }
  ]
}