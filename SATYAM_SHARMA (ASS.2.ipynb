{
  "nbformat": 4,
  "nbformat_minor": 0,
  "metadata": {
    "colab": {
      "name": "SATYAM_SHARMA.ipynb",
      "provenance": [],
      "private_outputs": true,
      "collapsed_sections": []
    },
    "kernelspec": {
      "name": "python3",
      "display_name": "Python 3"
    }
  },
  "cells": [
    {
      "cell_type": "markdown",
      "metadata": {
        "id": "4G70OyKxuOPG",
        "colab_type": "text"
      },
      "source": [
        "**DATASET NAME - EMPLOYEE_DATA ; FORMAT - CSV**"
      ]
    },
    {
      "cell_type": "code",
      "metadata": {
        "id": "EoU6fX0VtZVd",
        "colab_type": "code",
        "colab": {}
      },
      "source": [
        "import pandas as pd\n",
        "import matplotlib.pyplot as plt\n",
        "import seaborn as ss"
      ],
      "execution_count": 0,
      "outputs": []
    },
    {
      "cell_type": "code",
      "metadata": {
        "id": "KC25nwL_u_1u",
        "colab_type": "code",
        "colab": {}
      },
      "source": [
        "df2 = pd.read_csv('/content/employee_data.csv')"
      ],
      "execution_count": 0,
      "outputs": []
    },
    {
      "cell_type": "code",
      "metadata": {
        "id": "mSvzbcE1vIy0",
        "colab_type": "code",
        "colab": {}
      },
      "source": [
        "df2.tail()"
      ],
      "execution_count": 0,
      "outputs": []
    },
    {
      "cell_type": "code",
      "metadata": {
        "id": "gvn5qg6avPyl",
        "colab_type": "code",
        "colab": {}
      },
      "source": [
        "df2.shape"
      ],
      "execution_count": 0,
      "outputs": []
    },
    {
      "cell_type": "code",
      "metadata": {
        "id": "X3eyHXrnwdKe",
        "colab_type": "code",
        "colab": {}
      },
      "source": [
        "df2.dropna(axis=0 , how='any')"
      ],
      "execution_count": 0,
      "outputs": []
    },
    {
      "cell_type": "code",
      "metadata": {
        "id": "IJjE3xTGvbtQ",
        "colab_type": "code",
        "colab": {}
      },
      "source": [
        "df2.size"
      ],
      "execution_count": 0,
      "outputs": []
    },
    {
      "cell_type": "code",
      "metadata": {
        "id": "6q0msZDuN4iU",
        "colab_type": "code",
        "colab": {}
      },
      "source": [
        "df2.replace(to_replace='?', value='Unknown')"
      ],
      "execution_count": 0,
      "outputs": []
    },
    {
      "cell_type": "markdown",
      "metadata": {
        "id": "UeA1ImbZvpJy",
        "colab_type": "text"
      },
      "source": [
        "Identify Categorical variables & Continuous Variables\n",
        "\n",
        "1.   Categorical \n",
        "\n",
        "\n",
        "*italicized text*"
      ]
    },
    {
      "cell_type": "code",
      "metadata": {
        "id": "ub-cvTQVvfLz",
        "colab_type": "code",
        "colab": {}
      },
      "source": [
        "df2['employment_type'].unique()"
      ],
      "execution_count": 0,
      "outputs": []
    },
    {
      "cell_type": "code",
      "metadata": {
        "id": "zkapPF4KwFFv",
        "colab_type": "code",
        "colab": {}
      },
      "source": [
        "df2['education'].unique()"
      ],
      "execution_count": 0,
      "outputs": []
    },
    {
      "cell_type": "code",
      "metadata": {
        "id": "kZf6dECky0oZ",
        "colab_type": "code",
        "colab": {}
      },
      "source": [
        "df2['Gender'].unique()"
      ],
      "execution_count": 0,
      "outputs": []
    },
    {
      "cell_type": "code",
      "metadata": {
        "id": "OMJVfWQGy4u6",
        "colab_type": "code",
        "colab": {}
      },
      "source": [
        "df2['marital-status'].unique()"
      ],
      "execution_count": 0,
      "outputs": []
    },
    {
      "cell_type": "code",
      "metadata": {
        "id": "BPS1_pTgzA_i",
        "colab_type": "code",
        "colab": {}
      },
      "source": [
        "df2['relationship'].unique()"
      ],
      "execution_count": 0,
      "outputs": []
    },
    {
      "cell_type": "markdown",
      "metadata": {
        "id": "YkzjSGnlzRhp",
        "colab_type": "text"
      },
      "source": [
        "2.Continuous"
      ]
    },
    {
      "cell_type": "code",
      "metadata": {
        "id": "tKxzELYczYY0",
        "colab_type": "code",
        "colab": {}
      },
      "source": [
        "df2['age'].size"
      ],
      "execution_count": 0,
      "outputs": []
    },
    {
      "cell_type": "code",
      "metadata": {
        "id": "NtGZFWjAzeP9",
        "colab_type": "code",
        "colab": {}
      },
      "source": [
        "df2['hours_per_week'].value_counts()"
      ],
      "execution_count": 0,
      "outputs": []
    },
    {
      "cell_type": "code",
      "metadata": {
        "id": "bs3gCxCpzmJ8",
        "colab_type": "code",
        "colab": {}
      },
      "source": [
        "len(df2['salary'].unique())"
      ],
      "execution_count": 0,
      "outputs": []
    },
    {
      "cell_type": "markdown",
      "metadata": {
        "id": "Uf2oAgqG0JhY",
        "colab_type": "text"
      },
      "source": [
        "*Univariate analysis for categorical data*"
      ]
    },
    {
      "cell_type": "code",
      "metadata": {
        "id": "WvdHyb6p0yeM",
        "colab_type": "code",
        "colab": {}
      },
      "source": [
        "df2['employment_type'].value_counts().plot.bar()\n",
        "plt.xlabel('Employee types')\n",
        "plt.ylabel('quantity')\n",
        "plt.title('Count the people who are employed')"
      ],
      "execution_count": 0,
      "outputs": []
    },
    {
      "cell_type": "markdown",
      "metadata": {
        "id": "a68q5mDR6Avc",
        "colab_type": "text"
      },
      "source": [
        "Observations-\n",
        "1. *Most of the employed are from private sector(nearly-680)*\n"
      ]
    },
    {
      "cell_type": "code",
      "metadata": {
        "id": "cJzvppfUPKNZ",
        "colab_type": "code",
        "colab": {}
      },
      "source": [
        "df2['education'].value_counts().plot.bar()\n",
        "plt.xlabel('Education level')\n",
        "plt.ylabel('Quantity')\n",
        "plt.title('Count the education level')"
      ],
      "execution_count": 0,
      "outputs": []
    },
    {
      "cell_type": "markdown",
      "metadata": {
        "id": "wwuZwXE66qFA",
        "colab_type": "text"
      },
      "source": [
        "*HS graduated peoples are more than 300 in numbers*"
      ]
    },
    {
      "cell_type": "code",
      "metadata": {
        "id": "bJNU6XRdPxUf",
        "colab_type": "code",
        "colab": {}
      },
      "source": [
        "df2['marital-status'].value_counts().plot.bar()\n",
        "plt.xlabel('Employee marital-status')\n",
        "plt.ylabel('quantity')\n",
        "plt.title('Count the marital-status of the employees')"
      ],
      "execution_count": 0,
      "outputs": []
    },
    {
      "cell_type": "markdown",
      "metadata": {
        "id": "jcqNpRC27VF4",
        "colab_type": "text"
      },
      "source": [
        "Most of the employees are tagged with Married-civ-spouse(420+)\n",
        "Very few employees have marital_status 'Married-AF-spouse'"
      ]
    },
    {
      "cell_type": "code",
      "metadata": {
        "id": "6FWqcxuSQcTa",
        "colab_type": "code",
        "colab": {}
      },
      "source": [
        "df2['relationship'].value_counts().plot.bar()\n",
        "plt.xlabel('relation')\n",
        "plt.ylabel('Quantity')\n",
        "plt.title('Relationship')"
      ],
      "execution_count": 0,
      "outputs": []
    },
    {
      "cell_type": "markdown",
      "metadata": {
        "id": "KptvYmvy8Dgh",
        "colab_type": "text"
      },
      "source": [
        "Around 360 employees are husband\n",
        "Unmarried womans are more employed than married "
      ]
    },
    {
      "cell_type": "code",
      "metadata": {
        "id": "af-ey7pJQrrI",
        "colab_type": "code",
        "colab": {}
      },
      "source": [
        "df2['Gender'].value_counts().plot.bar()\n",
        "plt.xlabel('Sex')\n",
        "plt.ylabel('Quantity')\n",
        "plt.title('Gender')"
      ],
      "execution_count": 0,
      "outputs": []
    },
    {
      "cell_type": "markdown",
      "metadata": {
        "id": "KWANnKOf8bpa",
        "colab_type": "text"
      },
      "source": [
        "The number of male employees are almost double in female employees"
      ]
    },
    {
      "cell_type": "markdown",
      "metadata": {
        "id": "yna3NXHKQ7jQ",
        "colab_type": "text"
      },
      "source": [
        "Univariate analysis for Continuous data"
      ]
    },
    {
      "cell_type": "code",
      "metadata": {
        "id": "jG2LqObNQ_UA",
        "colab_type": "code",
        "colab": {}
      },
      "source": [
        "df2['age'].hist()"
      ],
      "execution_count": 0,
      "outputs": []
    },
    {
      "cell_type": "markdown",
      "metadata": {
        "id": "puw1kEkw8w-Q",
        "colab_type": "text"
      },
      "source": [
        "Infrences comes as-\n",
        "1. Maximum number of employees belongs to age group(32to 48)approx.\n",
        "2. nearly 5 employees are working having age group(82 to 90)"
      ]
    },
    {
      "cell_type": "code",
      "metadata": {
        "id": "2lSSW28US-a-",
        "colab_type": "code",
        "colab": {}
      },
      "source": [
        "df2['salary'].hist(bins=100)\n",
        "plt.xlim([20000 , 400000])"
      ],
      "execution_count": 0,
      "outputs": []
    },
    {
      "cell_type": "markdown",
      "metadata": {
        "id": "HxLrIniE9enT",
        "colab_type": "text"
      },
      "source": [
        "1. nearly 60 employees are working having salary around 200000"
      ]
    },
    {
      "cell_type": "code",
      "metadata": {
        "id": "pR4VsSMOTAUV",
        "colab_type": "code",
        "colab": {}
      },
      "source": [
        "df2['hours_per_week'].hist()"
      ],
      "execution_count": 0,
      "outputs": []
    },
    {
      "cell_type": "markdown",
      "metadata": {
        "id": "gDKBS1zv90G2",
        "colab_type": "text"
      },
      "source": [
        "1. more than 500 employees are spending 40 hours in a week at their work "
      ]
    },
    {
      "cell_type": "markdown",
      "metadata": {
        "id": "A0iN0FYnVI2a",
        "colab_type": "text"
      },
      "source": [
        "bivariate analysis between Salary and hour_per_week\n",
        "with {scatter plot} "
      ]
    },
    {
      "cell_type": "code",
      "metadata": {
        "id": "-AONj_G3VgkJ",
        "colab_type": "code",
        "colab": {}
      },
      "source": [
        "df2.plot.scatter(x='hours_per_week', y='salary')"
      ],
      "execution_count": 0,
      "outputs": []
    },
    {
      "cell_type": "markdown",
      "metadata": {
        "id": "V0X9ldMQXpnh",
        "colab_type": "text"
      },
      "source": [
        "inferences drawn\n",
        "\n",
        "\n",
        "1.   The number of people working 20,30,40,50,60 (hours_per_week) is more.\n",
        "2.   Most of peoples dedicatet 40 hours in a week to their jobs\n",
        "3. Time spends in jobs does not depend on their respective salaries\n",
        "\n",
        "\n",
        "\n"
      ]
    },
    {
      "cell_type": "markdown",
      "metadata": {
        "id": "ALp6RH5lZ0Q0",
        "colab_type": "text"
      },
      "source": [
        "*For each Education type , showcase the distribution of Salary .Use Seaborn Facetgrid & Line plot.Identify the key observations and mention them*"
      ]
    },
    {
      "cell_type": "code",
      "metadata": {
        "id": "5U3d7irnZ7wr",
        "colab_type": "code",
        "colab": {}
      },
      "source": [
        "mrf = ss.FacetGrid(df2,col='education', col_wrap=3)\n",
        "mrf = mrf.map(plt.hist, 'salary')"
      ],
      "execution_count": 0,
      "outputs": []
    },
    {
      "cell_type": "markdown",
      "metadata": {
        "id": "BMeGLe5VpbJF",
        "colab_type": "text"
      },
      "source": [
        "line plot"
      ]
    },
    {
      "cell_type": "code",
      "metadata": {
        "id": "Xf53gFlBpdJZ",
        "colab_type": "code",
        "colab": {}
      },
      "source": [
        "ss.lineplot(x = \"education\", y = \"salary\",data = df2, markers=True,err_style=\"bars\")\n",
        "plt.show()"
      ],
      "execution_count": 0,
      "outputs": []
    },
    {
      "cell_type": "markdown",
      "metadata": {
        "id": "-iE4njKF-S8u",
        "colab_type": "text"
      },
      "source": [
        ""
      ]
    },
    {
      "cell_type": "markdown",
      "metadata": {
        "id": "5u_l_YtcuBVA",
        "colab_type": "text"
      },
      "source": [
        "Categorizing each Gender & Relationship status (combination of all values) , plot the hours_per_week worked.Choose appropriate plots.Mention the inferences drawn\n"
      ]
    },
    {
      "cell_type": "code",
      "metadata": {
        "id": "a4kWmiqquFXh",
        "colab_type": "code",
        "colab": {}
      },
      "source": [
        "facet = ss.FacetGrid(df2, col='Gender', row='relationship',aspect=2)\n",
        "facet = facet.map(plt.hist , 'hours_per_week')"
      ],
      "execution_count": 0,
      "outputs": []
    },
    {
      "cell_type": "markdown",
      "metadata": {
        "id": "UHE39TBq2yfJ",
        "colab_type": "text"
      },
      "source": [
        "*Infrences are-*\n",
        "1. *The most employed are the husbands*\n",
        "2. *Most of the employed have a job in which they work 40 hours per weak *\n",
        "\n"
      ]
    },
    {
      "cell_type": "markdown",
      "metadata": {
        "id": "gTGOoaijwFao",
        "colab_type": "text"
      },
      "source": [
        "How many Males that have Marital status ‘Married-civ-spouse’ are earning above 150,000 ?"
      ]
    },
    {
      "cell_type": "code",
      "metadata": {
        "id": "MarAlOrawGfK",
        "colab_type": "code",
        "colab": {}
      },
      "source": [
        "df2 =df2.loc[(df2['Gender'].isin([' Male'])) & (df2['marital-status'].isin([' Married-civ-spouse'])) & (df2['salary'] > 150000)][['Gender','marital-status','salary']]\n",
        "df2['Gender'].value_counts()"
      ],
      "execution_count": 0,
      "outputs": []
    },
    {
      "cell_type": "markdown",
      "metadata": {
        "id": "yT-uUzVI0qs6",
        "colab_type": "text"
      },
      "source": [
        "Are Divorced Individuals of higher age compared to Individuals that are Not-in-family ? Using mean as a measure , answer the above question & mention the respective age of the two groups"
      ]
    }
  ]
}