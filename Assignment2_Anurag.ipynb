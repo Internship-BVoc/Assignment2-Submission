{
  "nbformat": 4,
  "nbformat_minor": 0,
  "metadata": {
    "colab": {
      "name": "Assignment2_Anurag.ipynb",
      "provenance": [],
      "collapsed_sections": [],
      "toc_visible": true
    },
    "kernelspec": {
      "name": "python3",
      "display_name": "Python 3"
    }
  },
  "cells": [
    {
      "cell_type": "markdown",
      "metadata": {
        "id": "zCR_aMoZAwQB",
        "colab_type": "text"
      },
      "source": [
        "# **ANURAG**\n",
        "\n",
        "*DATA DESCRIPTION*"
      ]
    },
    {
      "cell_type": "code",
      "metadata": {
        "id": "t4ts1J6x8Orr",
        "colab_type": "code",
        "outputId": "648b8953-5585-456d-d571-3256c808bd14",
        "colab": {
          "base_uri": "https://localhost:8080/",
          "height": 347
        }
      },
      "source": [
        "import pandas as pd\n",
        "df=pd.read_csv('/content/employee.csv')\n",
        "df.head(10)\n"
      ],
      "execution_count": 0,
      "outputs": [
        {
          "output_type": "execute_result",
          "data": {
            "text/html": [
              "<div>\n",
              "<style scoped>\n",
              "    .dataframe tbody tr th:only-of-type {\n",
              "        vertical-align: middle;\n",
              "    }\n",
              "\n",
              "    .dataframe tbody tr th {\n",
              "        vertical-align: top;\n",
              "    }\n",
              "\n",
              "    .dataframe thead th {\n",
              "        text-align: right;\n",
              "    }\n",
              "</style>\n",
              "<table border=\"1\" class=\"dataframe\">\n",
              "  <thead>\n",
              "    <tr style=\"text-align: right;\">\n",
              "      <th></th>\n",
              "      <th>age</th>\n",
              "      <th>employment_type</th>\n",
              "      <th>salary</th>\n",
              "      <th>education</th>\n",
              "      <th>marital-status</th>\n",
              "      <th>relationship</th>\n",
              "      <th>Gender</th>\n",
              "      <th>hours_per_week</th>\n",
              "    </tr>\n",
              "  </thead>\n",
              "  <tbody>\n",
              "    <tr>\n",
              "      <th>0</th>\n",
              "      <td>39</td>\n",
              "      <td>State-gov</td>\n",
              "      <td>77516</td>\n",
              "      <td>Bachelors</td>\n",
              "      <td>Never-married</td>\n",
              "      <td>Not-in-family</td>\n",
              "      <td>Male</td>\n",
              "      <td>40</td>\n",
              "    </tr>\n",
              "    <tr>\n",
              "      <th>1</th>\n",
              "      <td>50</td>\n",
              "      <td>Self-emp-not-inc</td>\n",
              "      <td>83311</td>\n",
              "      <td>Bachelors</td>\n",
              "      <td>Married-civ-spouse</td>\n",
              "      <td>Husband</td>\n",
              "      <td>Male</td>\n",
              "      <td>13</td>\n",
              "    </tr>\n",
              "    <tr>\n",
              "      <th>2</th>\n",
              "      <td>38</td>\n",
              "      <td>Private</td>\n",
              "      <td>215646</td>\n",
              "      <td>HS-grad</td>\n",
              "      <td>Divorced</td>\n",
              "      <td>Not-in-family</td>\n",
              "      <td>Male</td>\n",
              "      <td>40</td>\n",
              "    </tr>\n",
              "    <tr>\n",
              "      <th>3</th>\n",
              "      <td>53</td>\n",
              "      <td>Private</td>\n",
              "      <td>234721</td>\n",
              "      <td>11th</td>\n",
              "      <td>Married-civ-spouse</td>\n",
              "      <td>Husband</td>\n",
              "      <td>Male</td>\n",
              "      <td>40</td>\n",
              "    </tr>\n",
              "    <tr>\n",
              "      <th>4</th>\n",
              "      <td>28</td>\n",
              "      <td>Private</td>\n",
              "      <td>338409</td>\n",
              "      <td>Bachelors</td>\n",
              "      <td>Married-civ-spouse</td>\n",
              "      <td>Wife</td>\n",
              "      <td>Female</td>\n",
              "      <td>40</td>\n",
              "    </tr>\n",
              "    <tr>\n",
              "      <th>5</th>\n",
              "      <td>37</td>\n",
              "      <td>Private</td>\n",
              "      <td>284582</td>\n",
              "      <td>Masters</td>\n",
              "      <td>Married-civ-spouse</td>\n",
              "      <td>Wife</td>\n",
              "      <td>Female</td>\n",
              "      <td>40</td>\n",
              "    </tr>\n",
              "    <tr>\n",
              "      <th>6</th>\n",
              "      <td>49</td>\n",
              "      <td>Private</td>\n",
              "      <td>160187</td>\n",
              "      <td>9th</td>\n",
              "      <td>Married-spouse-absent</td>\n",
              "      <td>Not-in-family</td>\n",
              "      <td>Female</td>\n",
              "      <td>16</td>\n",
              "    </tr>\n",
              "    <tr>\n",
              "      <th>7</th>\n",
              "      <td>52</td>\n",
              "      <td>Self-emp-not-inc</td>\n",
              "      <td>209642</td>\n",
              "      <td>HS-grad</td>\n",
              "      <td>Married-civ-spouse</td>\n",
              "      <td>Husband</td>\n",
              "      <td>Male</td>\n",
              "      <td>45</td>\n",
              "    </tr>\n",
              "    <tr>\n",
              "      <th>8</th>\n",
              "      <td>31</td>\n",
              "      <td>Private</td>\n",
              "      <td>45781</td>\n",
              "      <td>Masters</td>\n",
              "      <td>Never-married</td>\n",
              "      <td>Not-in-family</td>\n",
              "      <td>Female</td>\n",
              "      <td>50</td>\n",
              "    </tr>\n",
              "    <tr>\n",
              "      <th>9</th>\n",
              "      <td>42</td>\n",
              "      <td>Private</td>\n",
              "      <td>159449</td>\n",
              "      <td>Bachelors</td>\n",
              "      <td>Married-civ-spouse</td>\n",
              "      <td>Husband</td>\n",
              "      <td>Male</td>\n",
              "      <td>40</td>\n",
              "    </tr>\n",
              "  </tbody>\n",
              "</table>\n",
              "</div>"
            ],
            "text/plain": [
              "   age   employment_type  salary  ...   relationship  Gender hours_per_week\n",
              "0   39         State-gov   77516  ...  Not-in-family    Male             40\n",
              "1   50  Self-emp-not-inc   83311  ...        Husband    Male             13\n",
              "2   38           Private  215646  ...  Not-in-family    Male             40\n",
              "3   53           Private  234721  ...        Husband    Male             40\n",
              "4   28           Private  338409  ...           Wife  Female             40\n",
              "5   37           Private  284582  ...           Wife  Female             40\n",
              "6   49           Private  160187  ...  Not-in-family  Female             16\n",
              "7   52  Self-emp-not-inc  209642  ...        Husband    Male             45\n",
              "8   31           Private   45781  ...  Not-in-family  Female             50\n",
              "9   42           Private  159449  ...        Husband    Male             40\n",
              "\n",
              "[10 rows x 8 columns]"
            ]
          },
          "metadata": {
            "tags": []
          },
          "execution_count": 132
        }
      ]
    },
    {
      "cell_type": "code",
      "metadata": {
        "id": "Ba1ZdqmK9iro",
        "colab_type": "code",
        "outputId": "c5b0ef5d-fa74-4ec5-b9ab-01f57702d7a9",
        "colab": {
          "base_uri": "https://localhost:8080/",
          "height": 70
        }
      },
      "source": [
        "df.columns\n"
      ],
      "execution_count": 0,
      "outputs": [
        {
          "output_type": "execute_result",
          "data": {
            "text/plain": [
              "Index(['age', 'employment_type', 'salary', 'education', 'marital-status',\n",
              "       'relationship', 'Gender', 'hours_per_week'],\n",
              "      dtype='object')"
            ]
          },
          "metadata": {
            "tags": []
          },
          "execution_count": 88
        }
      ]
    },
    {
      "cell_type": "markdown",
      "metadata": {
        "id": "8LopJTp9Q2Px",
        "colab_type": "text"
      },
      "source": [
        "***PROBLRM #1 - Identify Categorical variables & Continuous variables***\n",
        "\n",
        "\n",
        "---\n",
        "\n",
        "\n"
      ]
    },
    {
      "cell_type": "code",
      "metadata": {
        "id": "CvzYfSVuDDoV",
        "colab_type": "code",
        "outputId": "921e7153-99bd-4f15-a803-93e21637ec76",
        "colab": {
          "base_uri": "https://localhost:8080/",
          "height": 1000
        }
      },
      "source": [
        "b=[]\n",
        "a=df.columns\n",
        "for i in a:\n",
        "  b.append(i)\n",
        "  for k in b:\n",
        "   \n",
        "    d=df[k].unique()\n",
        "  print('\\n','Variable Name : ',k)\n",
        "  print('Total values in' ,k,'is = ',len(d))\n",
        "  print(d)\n"
      ],
      "execution_count": 0,
      "outputs": [
        {
          "output_type": "stream",
          "text": [
            "\n",
            " Variable Name :  age\n",
            "Total values in age is =  65\n",
            "[39 50 38 53 28 37 49 52 31 42 30 23 32 40 34 25 43 54 35 59 56 19 20 45\n",
            " 22 48 21 24 57 44 41 29 18 47 46 36 79 27 67 33 76 17 55 61 70 64 71 68\n",
            " 66 51 58 26 60 90 75 65 77 62 63 80 72 74 69 73 81]\n",
            "\n",
            " Variable Name :  employment_type\n",
            "Total values in employment_type is =  7\n",
            "['State-gov' 'Self-emp-not-inc' 'Private' 'Federal-gov' 'Local-gov' '?'\n",
            " 'Self-emp-inc']\n",
            "\n",
            " Variable Name :  salary\n",
            "Total values in salary is =  966\n",
            "[  77516   83311  215646  234721  338409  284582  160187  209642   45781\n",
            "  159449  280464  141297  122272  205019  121772  245487  176756  186824\n",
            "   28887  292175  193524  302146   76845  117037  109015  216851  168294\n",
            "  180211  367260  193366  190709  266015  386940   59951  311512  242406\n",
            "  197200  544091   84154  265477  507875   88506  172987   94638  289980\n",
            "  337895  144361  128354  101603  271466   32275  226956   51835  251585\n",
            "  109832  237993  216666   56352  147372  188146   59496  293936  149640\n",
            "  116632  105598  155537  183175  169846  191681  200681  101509  309974\n",
            "  162298  211678  124744  213921   32214  212759  309634  125927  446839\n",
            "  276515   51618  159937  343591  346253  268234  202051   54334  410867\n",
            "  249977  286730  212563  117747  226296  115585  191277  202683  171095\n",
            "  249409  124191  198282  149116  188300  103432  317660  304873  194901\n",
            "  189265  124692  432376   65324  335605  377869  102864   95647  303090\n",
            "  197371  247552  102632  199915  118853   77143  267989  301606  287828\n",
            "  111697  114937  129305  365739   69621   43323  120985  254202  146195\n",
            "  125933   56920  163127   34310   81973   66614  232782  316868  196584\n",
            "  105376  185814  175374  108293  181232  174662  186009  198183  163003\n",
            "  296158  252903  187715  214542  494223  191535  228456   38317  252752\n",
            "   78374   88419  201080  207157  235485  102628   25828   54826  124953\n",
            "  175325   96062  428030  149624  253814  312956  483777  183930   37274\n",
            "  181344  114580  633742  286370   29054  304030  143129  135105   99928\n",
            "  109567  155222  159567  523910  120939  130760  197387   99374   56795\n",
            "  138992   32921  397317  170653  259323  254817   48211  140164  128757\n",
            "   36270  210563   65368  160943  208358  153790   85815  125417  635913\n",
            "  313321  182609  109434  255004  197860  187656   51744  176681  140359\n",
            "  243313   24215  167687  314209  176796  538583  130408  159732  110978\n",
            "   76714  268700  170525  180138  115076  115458  347890  196001  273905\n",
            "  119156  179488  203580  236596  183916  207578  153141  112763  390781\n",
            "  171328   27382  259014  303044  117789  172579  187666  204518  150042\n",
            "   98092  245918  146013  378322  257295  218956   21174  185480  222205\n",
            "   69867  191260   30653  209109   70377  477983  170924  190174  193787\n",
            "  279472   34918   97688  175413  173960  205759  425161  220531  176609\n",
            "  371987  193884  200352  127595  220419  231931  248402  111095   57424\n",
            "  157443  278130  169469  146268  153718  217460  238638  303296  173321\n",
            "  193945   83082  193815   34987   59306  142897  860348  205607  199698\n",
            "  191954  138714  399087  423158  159841  174308   50356  186110  200381\n",
            "  174309   78383  211601  187728  321171  127921  206565  224563  178686\n",
            "   98545  242606  270942   94235   71195  104112  261192   94936  296478\n",
            "  119272   85043  293364  241895   36135  151989  101128  156464  117963\n",
            "  192262  111363  329752  372020   95432  161400   96129  111949  117125\n",
            "  348022  270092  180609  174575  410439   92262  183081  362589  212448\n",
            "  481060  185885   89821  184018  256649  160323  350845  267404   35633\n",
            "   80914  172927  174319  214955  344991  108699  117312  396099  134152\n",
            "  162028   25429  232392  220098  301302  277946   98101  196164  115562\n",
            "   96975  137300   86872  132178  416103  108574  288353  227689  166481\n",
            "  445382  110145  317253  123147  364657   42346  241951  118500  188386\n",
            " 1033222   92440  190762  426017  243867  240283   61777  175024   92003\n",
            "  188401  228528  133373  255191  204653  222289  287480  107762  202521\n",
            "  204116   29662  116358  208405  284843  117018   81281  340148  363425\n",
            "   45857  191073  405855  298227  290521   56915  146538  258872  206399\n",
            "  197332  245062  197583  234885   72887  180374  351299   54012  115745\n",
            "  288825  132601  193374  170070  126708   35598   33983  192776  118551\n",
            "  201965  139883  285020  303990   49401  279196  211870  281432  161155\n",
            "  197904  111746  170721   70100  193626  271749  189775  401531  286967\n",
            "  164427   91039  347934  371373   32220  187251  178107  343121  262749\n",
            "  403107   64293  303588  324960  114060   48925  180980  181054  388093\n",
            "  249609  112131  543162   91996  141944  251804   37070  337587  189346\n",
            "  222216  267044  214635  204226  108116   99146  196232  248344  186035\n",
            "  177905   85812  221172   99183  190387  202692  109339  108658  197202\n",
            "  101739  231559  207853  190942  102345   41493  190027  210525  133937\n",
            "  237903  163862  201872   84179   51662  233327  259510  184831  245724\n",
            "   27053  205343  229328  319560  136218   54576  323069  148291  152453\n",
            "  114053  212960  264052   82804  334273   27337  188436  433665  110663\n",
            "   87490  354351   95469  242718   22463  158156  350162  165532   28738\n",
            "  283635   86646  195733   69884  199713  181659  340939  197747   34292\n",
            "  156764   25826  103948  137390  105138   39352  168387  267147   99399\n",
            "  214242  200408  136455  239824  217039   51290  175674  194404   45612\n",
            "  410114  182521  339772  169658  200853  247564  249909  208122  109881\n",
            "  207824  369027  114117   51048  102388  190483  462440  109351   34383\n",
            "  241832  124187  153614  267556  205469  268090  165039  120451  154374\n",
            "  103649   35723  262601  226181  175697  248145  289436   75654  199378\n",
            "  160968  188563   55849  195322  402089   78277  158611  169496  130959\n",
            "  556660  292472  143774  288341   71592  167358  106742  219288  174524\n",
            "  335183  261293  111900  194360   81145  341204  249362  247019  114746\n",
            "  172146  110457   80077  368700  182556  219420  240817  102726  226267\n",
            "  125457  204021  161141  190290  430828   59342  136721  149422   86644\n",
            "  195124  167350  113000  140027  262425  316702  335453  202480  203628\n",
            "  118710  189620  475028  110866  243605  163870   80145  295566   63042\n",
            "  229148  242552  177665  208103  296450   70282  271767  144995  382635\n",
            "  295697  194141  378418  214399  125831  271328   50459  162140  177937\n",
            "  111502  299047  223212  118474  352139  173093  181655  332702   51164\n",
            "  234901  131414  260960  156052  279914  192453  200939  151408  112847\n",
            "  316929  126319  197422  267736  267034  193047  356089  223515   87510\n",
            "  145111   48093   31757  285854  120064  167381  103408  101460  420537\n",
            "  119411  128272  386773  283268  301526  151790  106252  188557  171114\n",
            "  327323  244147  280282  116442  282579   51838   73585  226902  279129\n",
            "  146908  196690   49572  237601  169628   36671  231193  192130  149704\n",
            "  102102   32185  196061  211046   31577  162343  128831  316688   90758\n",
            "  274363  154538  106085  315859   51471  193830  231043   23780  169879\n",
            "  270333  138768  191571  219941   94113  137510   32607   93208  254440\n",
            "  186556  169871  167159  171871  154411  129227  110331   34269  174355\n",
            "  680390  233130  165474  257780  194259  280093  177387   28929  105304\n",
            "  499233  180572  321435   86108  198124  135162  146813  291175  387569\n",
            "  102895   33274   86551  138192  118966   99784   90980  177407   96467\n",
            "  327886  111567  166545  142182  188798   38563  216284  191547  285335\n",
            "  142712   80945  309055   62339  176186  266855   48087  121313  143437\n",
            "  160724  282753  194636  153044  411797  117683  376540   72393  270335\n",
            "   96226   95336  258498  149698  205865  155781  406468  177119  144397\n",
            "  372525  164170  183800  177307  170108  341995  226508   87418  109165\n",
            "   28856  175897   99697   90270  152375  171550  211154  202570  168496\n",
            "   68898   93235  278924  311020  175878  543028  202027  158926   76860\n",
            "  136063  186648  257509   98155  274198   97083   29825  262153  214738\n",
            "  138022   91842  373662  162003   52114  241843  375871  186934  176900\n",
            "   21906  132222  143653   78602  465507  196373  293227  241752  166398\n",
            "  184682  250802  325159  174675  227065  269080  177722  133461  239683\n",
            "  398473  298785  123424  176286  150062  169240  288273  526968   57066\n",
            "  323573  368825  189721  164966   94954  202046  161538  105252  200153\n",
            "  178326  255957  188693]\n",
            "\n",
            " Variable Name :  education\n",
            "Total values in education is =  16\n",
            "['Bachelors' 'HS-grad' '11th' 'Masters' '9th' 'Some-college' 'Assoc-acdm'\n",
            " 'Assoc-voc' '7th-8th' 'Doctorate' 'Prof-school' '5th-6th' '10th'\n",
            " '1st-4th' 'Preschool' '12th']\n",
            "\n",
            " Variable Name :  marital-status\n",
            "Total values in marital-status is =  7\n",
            "['Never-married' 'Married-civ-spouse' 'Divorced' 'Married-spouse-absent'\n",
            " 'Separated' 'Married-AF-spouse' 'Widowed']\n",
            "\n",
            " Variable Name :  relationship\n",
            "Total values in relationship is =  6\n",
            "['Not-in-family' 'Husband' 'Wife' 'Own-child' 'Unmarried' 'Other-relative']\n",
            "\n",
            " Variable Name :  Gender\n",
            "Total values in Gender is =  2\n",
            "['Male' 'Female']\n",
            "\n",
            " Variable Name :  hours_per_week\n",
            "Total values in hours_per_week is =  56\n",
            "[40 13 16 45 50 80 30 35 60 20 52 44 15 25 38 43 55 48 58 32 70  2 22 56\n",
            " 41 28 36 24 46 42 12 65  1 10 34 75 98 33 54  8  6 64 19 18 72  5  9 47\n",
            " 37 21 26 14  4 59  7 99]\n"
          ],
          "name": "stdout"
        }
      ]
    },
    {
      "cell_type": "markdown",
      "metadata": {
        "id": "NDgxu9RP3qGL",
        "colab_type": "text"
      },
      "source": [
        "*Inference from above code:\n",
        "Categorical variables are: employment_type, education, marital-status, \n",
        "       relationship and Gender,\n",
        "Continuous variables are: hours_per_week , age and salary*\n",
        "\n",
        "---\n",
        "\n"
      ]
    },
    {
      "cell_type": "markdown",
      "metadata": {
        "id": "enBb4IeiSbMw",
        "colab_type": "text"
      },
      "source": [
        "***PROBLEM #2 - Carry on a Univariate analysis on all the Variables/Fields. User bar plots for Categorical Variables & histogram or line plot for Continuous ones. Label the plot and axis clearly for intuitive understanding. Mention observations drawn from each Univariate plot***\n",
        "\n",
        "---\n",
        "\n"
      ]
    },
    {
      "cell_type": "code",
      "metadata": {
        "id": "SW5_tQLiVAwj",
        "colab_type": "code",
        "outputId": "1dba47e7-f1a3-43ab-ea31-f99d31524ce5",
        "colab": {
          "base_uri": "https://localhost:8080/",
          "height": 601
        }
      },
      "source": [
        "df.hist(figsize=[15,8]) # to show histogram for Continuous variables"
      ],
      "execution_count": 0,
      "outputs": [
        {
          "output_type": "execute_result",
          "data": {
            "text/plain": [
              "array([[<matplotlib.axes._subplots.AxesSubplot object at 0x7f0c714d0278>,\n",
              "        <matplotlib.axes._subplots.AxesSubplot object at 0x7f0c703c1e48>],\n",
              "       [<matplotlib.axes._subplots.AxesSubplot object at 0x7f0c706574e0>,\n",
              "        <matplotlib.axes._subplots.AxesSubplot object at 0x7f0c70695860>]],\n",
              "      dtype=object)"
            ]
          },
          "metadata": {
            "tags": []
          },
          "execution_count": 112
        },
        {
          "output_type": "display_data",
          "data": {
            "image/png": "[encoded data removed]",
            "text/plain": [
              "<Figure size 1080x576 with 4 Axes>"
            ]
          },
          "metadata": {
            "tags": [],
            "needs_background": "light"
          }
        }
      ]
    },
    {
      "cell_type": "markdown",
      "metadata": {
        "id": "fI4wY7c26HWj",
        "colab_type": "text"
      },
      "source": [
        "***Inference:***\n",
        "***\n",
        "\n",
        "*   in dataset there is maximum of employee worked whoese age between 20 to 40\n",
        "\n",
        "*   more then 500 employee work average 40 hours\n",
        "\n",
        "*   most of employee salary is < 0.3 million\n",
        "\n",
        "***\n",
        "\n",
        "\n",
        "\n",
        "\n"
      ]
    },
    {
      "cell_type": "code",
      "metadata": {
        "id": "M2xQxqKdV23F",
        "colab_type": "code",
        "outputId": "eb822eb0-2935-4822-b273-cd62a3fddd33",
        "colab": {
          "base_uri": "https://localhost:8080/",
          "height": 370
        }
      },
      "source": [
        "e1=df.employment_type.value_counts().plot.bar()\n",
        "e1.set_xlabel('Employment_type')\n",
        "e1.set_ylabel('Number of Employees')\n"
      ],
      "execution_count": 0,
      "outputs": [
        {
          "output_type": "execute_result",
          "data": {
            "text/plain": [
              "Text(0, 0.5, 'Number of Employees')"
            ]
          },
          "metadata": {
            "tags": []
          },
          "execution_count": 113
        },
        {
          "output_type": "display_data",
          "data": {
            "image/png": "[encoded data removed]",
            "text/plain": [
              "<Figure size 432x288 with 1 Axes>"
            ]
          },
          "metadata": {
            "tags": [],
            "needs_background": "light"
          }
        }
      ]
    },
    {
      "cell_type": "markdown",
      "metadata": {
        "id": "hsj6qO_j_U7Q",
        "colab_type": "text"
      },
      "source": [
        "***Inference:***\n",
        "\n",
        "\n",
        "1.   there is most of(>600) employee from private sector (employee type)\n",
        "2.   very less employee from federal-gov\n",
        "\n",
        "\n",
        "---\n",
        "\n",
        "\n"
      ]
    },
    {
      "cell_type": "code",
      "metadata": {
        "id": "0oNwYhKSV3sq",
        "colab_type": "code",
        "outputId": "1612a2e5-c904-40a0-86ff-3368b9f03166",
        "colab": {
          "base_uri": "https://localhost:8080/",
          "height": 354
        }
      },
      "source": [
        "e=df.education.value_counts().plot.bar()\n",
        "e.set_xlabel('Education of the employee')\n",
        "e.set_ylabel('No. of Employees')"
      ],
      "execution_count": 0,
      "outputs": [
        {
          "output_type": "execute_result",
          "data": {
            "text/plain": [
              "Text(0, 0.5, 'No. of Employees')"
            ]
          },
          "metadata": {
            "tags": []
          },
          "execution_count": 93
        },
        {
          "output_type": "display_data",
          "data": {
            "image/png": "[encoded data removed]",
            "text/plain": [
              "<Figure size 432x288 with 1 Axes>"
            ]
          },
          "metadata": {
            "tags": [],
            "needs_background": "light"
          }
        }
      ]
    },
    {
      "cell_type": "markdown",
      "metadata": {
        "id": "kCuem7OMAEMh",
        "colab_type": "text"
      },
      "source": [
        "***Inference:***\n",
        "\n",
        "\n",
        "*   more the 300 employee education is HS- grade\n",
        "\n",
        "*  there very few employee preschool educated\n",
        "\n",
        "\n",
        "\n",
        "---\n",
        "\n",
        "\n",
        "\n",
        "\n"
      ]
    },
    {
      "cell_type": "code",
      "metadata": {
        "id": "lQqPLzl0V3ww",
        "colab_type": "code",
        "outputId": "55b49016-d5f6-4bbb-a912-8bbbcc433a24",
        "colab": {
          "base_uri": "https://localhost:8080/",
          "height": 402
        }
      },
      "source": [
        "e2=df['marital-status'].value_counts().plot.bar()\n",
        "e2.set_xlabel('Marital-status')\n",
        "e2.set_ylabel('No. of employees')"
      ],
      "execution_count": 0,
      "outputs": [
        {
          "output_type": "execute_result",
          "data": {
            "text/plain": [
              "Text(0, 0.5, 'No. of employees')"
            ]
          },
          "metadata": {
            "tags": []
          },
          "execution_count": 95
        },
        {
          "output_type": "display_data",
          "data": {
            "image/png": "[encoded data removed]",
            "text/plain": [
              "<Figure size 432x288 with 1 Axes>"
            ]
          },
          "metadata": {
            "tags": [],
            "needs_background": "light"
          }
        }
      ]
    },
    {
      "cell_type": "markdown",
      "metadata": {
        "id": "kKBt6bLeBG0-",
        "colab_type": "text"
      },
      "source": [
        "***Inference:***\n",
        "\n",
        "\n",
        "*   most of employee marital-status is Never-married and Married-civ-spouse\n",
        " \n",
        "*   no any employee in Married -AF-spouse(Marital-status)\n",
        "\n",
        "---\n",
        "\n",
        "\n",
        "\n",
        "\n",
        "\n"
      ]
    },
    {
      "cell_type": "code",
      "metadata": {
        "id": "V33yB3gxV4yX",
        "colab_type": "code",
        "outputId": "422b94b1-f11d-4740-ef8e-9b10f8af9566",
        "colab": {
          "base_uri": "https://localhost:8080/",
          "height": 355
        }
      },
      "source": [
        "e3=df.relationship.value_counts().plot.bar()\n",
        "e3.set_xlabel('Relationship Status')\n",
        "e3.set_ylabel('No. of Employees')"
      ],
      "execution_count": 0,
      "outputs": [
        {
          "output_type": "execute_result",
          "data": {
            "text/plain": [
              "Text(0, 0.5, 'No. of Employees')"
            ]
          },
          "metadata": {
            "tags": []
          },
          "execution_count": 96
        },
        {
          "output_type": "display_data",
          "data": {
            "image/png": "[encoded data removed]",
            "text/plain": [
              "<Figure size 432x288 with 1 Axes>"
            ]
          },
          "metadata": {
            "tags": [],
            "needs_background": "light"
          }
        }
      ]
    },
    {
      "cell_type": "markdown",
      "metadata": {
        "id": "Qi6EIVKcEF40",
        "colab_type": "text"
      },
      "source": [
        "***Inference:***\n",
        "\n",
        "\n",
        "*   more then 300 employee relationship status is Husband\n",
        "*   there is very employee whose relationship status is Other relative\n",
        "\n"
      ]
    },
    {
      "cell_type": "code",
      "metadata": {
        "id": "ZJVm9fm5V47M",
        "colab_type": "code",
        "outputId": "8ad22945-b8fb-4b46-d542-4e06740a66c9",
        "colab": {
          "base_uri": "https://localhost:8080/",
          "height": 322
        }
      },
      "source": [
        "e4=df.Gender.value_counts().plot.bar()\n",
        "e4.set_xlabel('Gender')\n",
        "e4.set_ylabel('No. of Employees')"
      ],
      "execution_count": 0,
      "outputs": [
        {
          "output_type": "execute_result",
          "data": {
            "text/plain": [
              "Text(0, 0.5, 'No. of Employees')"
            ]
          },
          "metadata": {
            "tags": []
          },
          "execution_count": 97
        },
        {
          "output_type": "display_data",
          "data": {
            "image/png": "[encoded data removed]",
            "text/plain": [
              "<Figure size 432x288 with 1 Axes>"
            ]
          },
          "metadata": {
            "tags": [],
            "needs_background": "light"
          }
        }
      ]
    },
    {
      "cell_type": "markdown",
      "metadata": {
        "id": "hddTRM9tFUbT",
        "colab_type": "text"
      },
      "source": [
        "***Inference:***\n",
        "\n",
        "\n",
        "*   there is most of male employee\n",
        "*   approximate 33% female employee are there\n",
        "\n"
      ]
    },
    {
      "cell_type": "code",
      "metadata": {
        "id": "gvXCDop9WNAF",
        "colab_type": "code",
        "outputId": "6d5206e2-3d9d-4897-8a67-1c6a77fb173b",
        "colab": {
          "base_uri": "https://localhost:8080/",
          "height": 300
        }
      },
      "source": [
        "e5=df.age.plot.hist()\n",
        "e5.set_xlabel('Age')\n",
        "e5.set_ylabel('No. of Employees')"
      ],
      "execution_count": 0,
      "outputs": [
        {
          "output_type": "execute_result",
          "data": {
            "text/plain": [
              "Text(0, 0.5, 'No. of Employees')"
            ]
          },
          "metadata": {
            "tags": []
          },
          "execution_count": 99
        },
        {
          "output_type": "display_data",
          "data": {
            "image/png": "[encoded data removed]",
            "text/plain": [
              "<Figure size 432x288 with 1 Axes>"
            ]
          },
          "metadata": {
            "tags": [],
            "needs_background": "light"
          }
        }
      ]
    },
    {
      "cell_type": "markdown",
      "metadata": {
        "id": "rS6zud37GTgu",
        "colab_type": "text"
      },
      "source": [
        "***Inference:***\n",
        "\n",
        "\n",
        "*   approximately 80% employee lie in 20-45 age group\n",
        "*   very less employee(approx 8%) whose age is more then 50 \n",
        "\n",
        "\n",
        "---\n",
        "\n",
        "\n"
      ]
    },
    {
      "cell_type": "markdown",
      "metadata": {
        "id": "TNh9Ldo6SsHW",
        "colab_type": "text"
      },
      "source": [
        "***PROBLEM #3 -\tShow a bivariate analysis between Salary and hour_per_week.Choose a plot of your choice. Mention the inferences drawn***  \n",
        "\n",
        "---\n",
        "\n"
      ]
    },
    {
      "cell_type": "code",
      "metadata": {
        "id": "aWyBnJa0HgoQ",
        "colab_type": "code",
        "outputId": "79085dc7-9cef-4f7c-cb1f-24037b2c1841",
        "colab": {
          "base_uri": "https://localhost:8080/",
          "height": 308
        }
      },
      "source": [
        "df.plot.scatter(x='hours_per_week', y='salary') #plot scatter between Salary and hour_per_week\n"
      ],
      "execution_count": 0,
      "outputs": [
        {
          "output_type": "execute_result",
          "data": {
            "text/plain": [
              "<matplotlib.axes._subplots.AxesSubplot at 0x7f0c7115d4e0>"
            ]
          },
          "metadata": {
            "tags": []
          },
          "execution_count": 114
        },
        {
          "output_type": "display_data",
          "data": {
            "image/png": "[encoded data removed]",
            "text/plain": [
              "<Figure size 432x288 with 1 Axes>"
            ]
          },
          "metadata": {
            "tags": [],
            "needs_background": "light"
          }
        }
      ]
    },
    {
      "cell_type": "markdown",
      "metadata": {
        "id": "A9HKc2CYIkYX",
        "colab_type": "text"
      },
      "source": [
        "***Inference:***\n",
        "\n",
        "\n",
        "*   employee who worked 40 hour per week get salary get good salary as compared to others\n",
        "*   very few employee who worked more then 60 hour per week\n",
        "\n",
        "*   most of employee working per week 10 to 60 hours\n",
        "\n",
        "---\n",
        "\n"
      ]
    },
    {
      "cell_type": "markdown",
      "metadata": {
        "id": "roHMIKP-S7G7",
        "colab_type": "text"
      },
      "source": [
        "***PROBLEM #4 -\tFor each Education type , showcase the distribution of Salary .Use Seaborn Facetgrid & Line plot.Identify the key observations and mention them***\n",
        "\n",
        "---\n",
        "\n",
        "\n"
      ]
    },
    {
      "cell_type": "code",
      "metadata": {
        "id": "WNssrUcobDPW",
        "colab_type": "code",
        "outputId": "628c4b75-f5ce-486a-acaa-ac4c21ec89a4",
        "colab": {
          "base_uri": "https://localhost:8080/",
          "height": 873
        }
      },
      "source": [
        "a=sn.FacetGrid(df,col='education',col_wrap=4,height=3)\n",
        "a=a.map(plt.hist,'salary')"
      ],
      "execution_count": 0,
      "outputs": [
        {
          "output_type": "display_data",
          "data": {
            "image/png": "[encoded data removed]",
            "text/plain": [
              "<Figure size 864x864 with 16 Axes>"
            ]
          },
          "metadata": {
            "tags": [],
            "needs_background": "light"
          }
        }
      ]
    },
    {
      "cell_type": "markdown",
      "metadata": {
        "id": "ZwsqJivIL8Jd",
        "colab_type": "text"
      },
      "source": [
        "***Inference:***\n",
        "\n",
        "\n",
        "*   employee whose education from HS-grade gets good salary as compared to other\n",
        "*   there is only few(<1%) employee whose education is preschool gets very poor salary\n",
        "*   most of employees receive salary approx <0.5 million .\n",
        "\n",
        "---\n",
        "\n",
        "\n",
        "\n"
      ]
    },
    {
      "cell_type": "markdown",
      "metadata": {
        "id": "d-KYQCMITBUP",
        "colab_type": "text"
      },
      "source": [
        "***PROBLEM #5 - Categorizing each Gender & Relationship status (combination of all values) , plot the hours_per_week worked.Choose appropriate plots.Mention the inferences drawn***\n",
        "\n",
        "---\n",
        "\n"
      ]
    },
    {
      "cell_type": "code",
      "metadata": {
        "id": "Z0tvnF-1bQvq",
        "colab_type": "code",
        "outputId": "8ca554e8-f92c-4cd1-bf6d-ccb5fb81bc1d",
        "colab": {
          "base_uri": "https://localhost:8080/",
          "height": 1000
        }
      },
      "source": [
        "import seaborn as sn\n",
        "import matplotlib.pyplot as plt\n",
        "g=sn.FacetGrid(df,col='Gender',row='relationship',palette=\"G nBu_d\",gridspec_kws={\"width_ratios\": [5, 5]}, height=3,aspect=2)\n",
        "g=g.map(plt.hist,\"hours_per_week\")"
      ],
      "execution_count": 0,
      "outputs": [
        {
          "output_type": "display_data",
          "data": {
            "image/png": "[encoded data removed]",
            "text/plain": [
              "<Figure size 864x1296 with 12 Axes>"
            ]
          },
          "metadata": {
            "tags": [],
            "needs_background": "light"
          }
        }
      ]
    },
    {
      "cell_type": "markdown",
      "metadata": {
        "id": "xu0EdhxiK3wj",
        "colab_type": "text"
      },
      "source": [
        "***Inference:***\n",
        "\n",
        "\n",
        "*   Most of male employee is there and work max of hour per week\n",
        "\n",
        "*   female(wife) and male(own child) do not do any work ( approx 0 hour per week)\n",
        "\n",
        "*   married female also do good work as comapre to others\n",
        "---\n",
        "\n"
      ]
    },
    {
      "cell_type": "markdown",
      "metadata": {
        "id": "LJsZNyEBTGM7",
        "colab_type": "text"
      },
      "source": [
        "***PROBLEM #6 - How many Males that have Marital status Married-civ-spousea are earning above 150,000 ?***\n"
      ]
    },
    {
      "cell_type": "code",
      "metadata": {
        "id": "3CUrXcQEbV0u",
        "colab_type": "code",
        "outputId": "6e08c3b6-7b5a-4da0-c158-a06a76e9915c",
        "colab": {
          "base_uri": "https://localhost:8080/",
          "height": 176
        }
      },
      "source": [
        "df[(df['Gender'] == 'Male') & (df['marital-status'] == 'Married-civ-spouse') & (df['salary']>150000)].count()\n",
        "\n",
        "#k['Gender'].count() #count the gender value whose Marital status Married-civ-spousea are earning above 150,000."
      ],
      "execution_count": 166,
      "outputs": [
        {
          "output_type": "execute_result",
          "data": {
            "text/plain": [
              "age                226\n",
              "employment_type    226\n",
              "salary             226\n",
              "education          226\n",
              "marital-status     226\n",
              "relationship       226\n",
              "Gender             226\n",
              "hours_per_week     226\n",
              "dtype: int64"
            ]
          },
          "metadata": {
            "tags": []
          },
          "execution_count": 166
        }
      ]
    },
    {
      "cell_type": "code",
      "metadata": {
        "id": "G-I1cwrTargF",
        "colab_type": "code",
        "outputId": "1fec06f7-3734-4bc2-c8fb-3c379d555f54",
        "colab": {
          "base_uri": "https://localhost:8080/",
          "height": 52
        }
      },
      "source": [
        "df[(df['Gender'] == 'Male') & (df['marital-status'] == 'Married-civ-spouse') & (df[\"salary\"]>150000)].count()[['Gender']]"
      ],
      "execution_count": 154,
      "outputs": [
        {
          "output_type": "execute_result",
          "data": {
            "text/plain": [
              "Gender    226\n",
              "dtype: int64"
            ]
          },
          "metadata": {
            "tags": []
          },
          "execution_count": 154
        }
      ]
    },
    {
      "cell_type": "code",
      "metadata": {
        "id": "4QBnvRx9bmCP",
        "colab_type": "code",
        "outputId": "a23d19fa-b5e9-4a2d-a1c7-f0722e9c2287",
        "colab": {
          "base_uri": "https://localhost:8080/",
          "height": 34
        }
      },
      "source": [
        "df['Gender'].unique()"
      ],
      "execution_count": 155,
      "outputs": [
        {
          "output_type": "execute_result",
          "data": {
            "text/plain": [
              "array(['Male', 'Female'], dtype=object)"
            ]
          },
          "metadata": {
            "tags": []
          },
          "execution_count": 155
        }
      ]
    },
    {
      "cell_type": "markdown",
      "metadata": {
        "id": "XqPiMfk5QULc",
        "colab_type": "text"
      },
      "source": [
        "\n",
        "\n",
        "*   *there is **226** males gender whose Marital status Married-civ-spousea are earning above 150,000*\n",
        "\n"
      ]
    },
    {
      "cell_type": "markdown",
      "metadata": {
        "id": "DAoNeTmFTIQl",
        "colab_type": "text"
      },
      "source": [
        "***PROBLEM #7 - Are Divorced Individuals of higher age compared to Individuals that are Not-in-family ? Using mean as a measure , answer the above question & mention the respective age of the two groups.***\n",
        "\n",
        "\n",
        "---\n",
        "\n",
        "\n",
        "\n"
      ]
    },
    {
      "cell_type": "code",
      "metadata": {
        "id": "6YRwq6SaRoUK",
        "colab_type": "code",
        "outputId": "61924cbb-a8a0-4979-e607-03175805f7a0",
        "colab": {
          "base_uri": "https://localhost:8080/",
          "height": 34
        }
      },
      "source": [
        "d=df[(df['marital-status']=='Divorced') & (df['relationship'].isin(['Unmarried','Own-child','Other-relative']))]\n",
        "d.age.mean()\n"
      ],
      "execution_count": 168,
      "outputs": [
        {
          "output_type": "execute_result",
          "data": {
            "text/plain": [
              "40.67272727272727"
            ]
          },
          "metadata": {
            "tags": []
          },
          "execution_count": 168
        }
      ]
    },
    {
      "cell_type": "code",
      "metadata": {
        "id": "lN3REcpJYR1Z",
        "colab_type": "code",
        "colab": {
          "base_uri": "https://localhost:8080/",
          "height": 34
        },
        "outputId": "081176b6-ba2a-4abc-ff59-d10739ce7b8b"
      },
      "source": [
        "d1=df[(df['relationship']=='Not-in-family') & (df['marital-status'].isin(['Never-married','Separated',' Widowed']))]\n",
        "d1.age.mean()"
      ],
      "execution_count": 169,
      "outputs": [
        {
          "output_type": "execute_result",
          "data": {
            "text/plain": [
              "33.06936416184971"
            ]
          },
          "metadata": {
            "tags": []
          },
          "execution_count": 169
        }
      ]
    },
    {
      "cell_type": "markdown",
      "metadata": {
        "id": "4x-CeaJUSJ1K",
        "colab_type": "text"
      },
      "source": [
        "***Inference:***\n",
        "\n",
        "\n",
        "Yes, divorced individuals are of higher age as compared to the individuals that are not in family\n",
        "\n",
        "---\n",
        "\n"
      ]
    }
  ]
}